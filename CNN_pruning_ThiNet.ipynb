{
  "cells": [
    {
      "cell_type": "markdown",
      "metadata": {
        "id": "y-eC-sb34T9w"
      },
      "source": [
        "## Accelerate Inference: Neural Network Pruning"
      ]
    },
    {
      "cell_type": "code",
      "execution_count": null,
      "metadata": {
        "colab": {
          "base_uri": "https://localhost:8080/"
        },
        "id": "L47XBZWm4T9x",
        "outputId": "093bfc9f-789d-4db3-fd50-f3c966838136"
      },
      "outputs": [
        {
          "name": "stdout",
          "output_type": "stream",
          "text": [
            "2.9.2\n"
          ]
        }
      ],
      "source": [
        "import os\n",
        "import numpy as np\n",
        "import cv2\n",
        "import matplotlib.pyplot as plt\n",
        "import pickle\n",
        "\n",
        "import tensorflow as tf\n",
        "from tensorflow import keras\n",
        "from tensorflow.keras import datasets, layers, models, regularizers\n",
        "from tensorflow.keras.layers import *\n",
        "from tqdm import tqdm\n",
        "import time\n",
        "\n",
        "print(tf.version.VERSION)"
      ]
    },
    {
      "cell_type": "code",
      "execution_count": 2,
      "metadata": {
        "colab": {
          "base_uri": "https://localhost:8080/"
        },
        "id": "m9ApF2A9iPAm",
        "outputId": "fd4e1313-4ee3-406c-de8c-5bf5f7befeae"
      },
      "outputs": [
        {
          "name": "stdout",
          "output_type": "stream",
          "text": [
            "Mounted at /content/drive\n"
          ]
        }
      ],
      "source": [
        "from google.colab import drive\n",
        "drive.mount('/content/drive')"
      ]
    },
    {
      "cell_type": "code",
      "execution_count": null,
      "metadata": {
        "colab": {
          "base_uri": "https://localhost:8080/"
        },
        "id": "V1FQTVeAuNiU",
        "outputId": "615a2da7-46cd-4051-abe5-8172cc5dac7e"
      },
      "outputs": [
        {
          "name": "stdout",
          "output_type": "stream",
          "text": [
            "train_images.pkl\n",
            "train_labels.pkl\n",
            "val_images.pkl\n",
            "val_labels.pkl\n"
          ]
        }
      ],
      "source": [
        "# untar\n",
        "!tar -xvzf /content/drive/MyDrive/10605MP/dataset.tar.gz\n",
        "# load train\n",
        "train_images = pickle.load(open('train_images.pkl', 'rb'))\n",
        "train_labels = pickle.load(open('train_labels.pkl', 'rb'))\n",
        "# load val\n",
        "val_images = pickle.load(open('val_images.pkl', 'rb'))\n",
        "val_labels = pickle.load(open('val_labels.pkl', 'rb'))"
      ]
    },
    {
      "cell_type": "code",
      "execution_count": null,
      "metadata": {
        "id": "KE9JuZDG4T94"
      },
      "outputs": [],
      "source": [
        "# Define the neural network architecture (don't change this)\n",
        "\n",
        "model = models.Sequential()\n",
        "model.add(Conv2D(32, (3, 3), padding='same', kernel_regularizer=regularizers.l2(1e-5), input_shape=(25,25,3)))\n",
        "model.add(Activation('relu'))\n",
        "model.add(Conv2D(32, (3, 3), kernel_regularizer=regularizers.l2(1e-5)))\n",
        "model.add(Activation('relu'))\n",
        "model.add(MaxPooling2D(pool_size=(2, 2)))\n",
        "model.add(Dropout(0.25))\n",
        "model.add(Conv2D(64, (3, 3), padding='same', kernel_regularizer=regularizers.l2(1e-5)))\n",
        "model.add(Activation('relu'))\n",
        "model.add(Conv2D(64, (3, 3), kernel_regularizer=regularizers.l2(1e-5)))\n",
        "model.add(Activation('relu'))\n",
        "model.add(MaxPooling2D(pool_size=(2, 2)))\n",
        "model.add(Dropout(0.25))\n",
        "model.add(Flatten())\n",
        "model.add(Dense(512))\n",
        "model.add(Activation('relu'))\n",
        "model.add(Dropout(0.5))\n",
        "model.add(Dense(5))\n",
        "model.add(Activation('softmax'))"
      ]
    },
    {
      "cell_type": "code",
      "execution_count": null,
      "metadata": {
        "colab": {
          "base_uri": "https://localhost:8080/"
        },
        "id": "JTzcSoYl4T97",
        "outputId": "d8350df1-286c-4f8f-d189-bc3e9d835e0f"
      },
      "outputs": [
        {
          "name": "stdout",
          "output_type": "stream",
          "text": [
            "Model: \"sequential\"\n",
            "_________________________________________________________________\n",
            " Layer (type)                Output Shape              Param #   \n",
            "=================================================================\n",
            " conv2d (Conv2D)             (None, 25, 25, 32)        896       \n",
            "                                                                 \n",
            " activation (Activation)     (None, 25, 25, 32)        0         \n",
            "                                                                 \n",
            " conv2d_1 (Conv2D)           (None, 23, 23, 32)        9248      \n",
            "                                                                 \n",
            " activation_1 (Activation)   (None, 23, 23, 32)        0         \n",
            "                                                                 \n",
            " max_pooling2d (MaxPooling2D  (None, 11, 11, 32)       0         \n",
            " )                                                               \n",
            "                                                                 \n",
            " dropout (Dropout)           (None, 11, 11, 32)        0         \n",
            "                                                                 \n",
            " conv2d_2 (Conv2D)           (None, 11, 11, 64)        18496     \n",
            "                                                                 \n",
            " activation_2 (Activation)   (None, 11, 11, 64)        0         \n",
            "                                                                 \n",
            " conv2d_3 (Conv2D)           (None, 9, 9, 64)          36928     \n",
            "                                                                 \n",
            " activation_3 (Activation)   (None, 9, 9, 64)          0         \n",
            "                                                                 \n",
            " max_pooling2d_1 (MaxPooling  (None, 4, 4, 64)         0         \n",
            " 2D)                                                             \n",
            "                                                                 \n",
            " dropout_1 (Dropout)         (None, 4, 4, 64)          0         \n",
            "                                                                 \n",
            " flatten (Flatten)           (None, 1024)              0         \n",
            "                                                                 \n",
            " dense (Dense)               (None, 512)               524800    \n",
            "                                                                 \n",
            " activation_4 (Activation)   (None, 512)               0         \n",
            "                                                                 \n",
            " dropout_2 (Dropout)         (None, 512)               0         \n",
            "                                                                 \n",
            " dense_1 (Dense)             (None, 5)                 2565      \n",
            "                                                                 \n",
            " activation_5 (Activation)   (None, 5)                 0         \n",
            "                                                                 \n",
            "=================================================================\n",
            "Total params: 592,933\n",
            "Trainable params: 592,933\n",
            "Non-trainable params: 0\n",
            "_________________________________________________________________\n",
            "None\n"
          ]
        }
      ],
      "source": [
        "print(model.summary())"
      ]
    },
    {
      "cell_type": "markdown",
      "metadata": {
        "id": "IfLOZzJCk69Q"
      },
      "source": [
        "### Pre-train full model"
      ]
    },
    {
      "cell_type": "code",
      "execution_count": null,
      "metadata": {
        "colab": {
          "base_uri": "https://localhost:8080/"
        },
        "id": "G9Nk_MAPqZPt",
        "outputId": "58545fed-8920-4464-8148-ac2ac2419dc8"
      },
      "outputs": [
        {
          "name": "stdout",
          "output_type": "stream",
          "text": [
            "Epoch 1/50\n"
          ]
        },
        {
          "name": "stderr",
          "output_type": "stream",
          "text": [
            "/usr/local/lib/python3.7/dist-packages/tensorflow/python/util/dispatch.py:1082: UserWarning: \"`sparse_categorical_crossentropy` received `from_logits=True`, but the `output` argument was produced by a sigmoid or softmax activation and thus does not represent logits. Was this intended?\"\n",
            "  return dispatch_target(*args, **kwargs)\n"
          ]
        },
        {
          "name": "stdout",
          "output_type": "stream",
          "text": [
            "703/703 [==============================] - 7s 6ms/step - loss: 1.5464 - accuracy: 0.2883 - val_loss: 1.3906 - val_accuracy: 0.4028\n",
            "Epoch 2/50\n",
            "703/703 [==============================] - 4s 5ms/step - loss: 1.3741 - accuracy: 0.4085 - val_loss: 1.3081 - val_accuracy: 0.4416\n",
            "Epoch 3/50\n",
            "703/703 [==============================] - 4s 5ms/step - loss: 1.3005 - accuracy: 0.4469 - val_loss: 1.2282 - val_accuracy: 0.4800\n",
            "Epoch 4/50\n",
            "703/703 [==============================] - 4s 5ms/step - loss: 1.2544 - accuracy: 0.4768 - val_loss: 1.1862 - val_accuracy: 0.5030\n",
            "Epoch 5/50\n",
            "703/703 [==============================] - 4s 5ms/step - loss: 1.2159 - accuracy: 0.4975 - val_loss: 1.1651 - val_accuracy: 0.5160\n",
            "Epoch 6/50\n",
            "703/703 [==============================] - 4s 5ms/step - loss: 1.1844 - accuracy: 0.5155 - val_loss: 1.1416 - val_accuracy: 0.5224\n",
            "Epoch 7/50\n",
            "703/703 [==============================] - 5s 7ms/step - loss: 1.1515 - accuracy: 0.5309 - val_loss: 1.0883 - val_accuracy: 0.5477\n",
            "Epoch 8/50\n",
            "703/703 [==============================] - 5s 7ms/step - loss: 1.1289 - accuracy: 0.5432 - val_loss: 1.1164 - val_accuracy: 0.5426\n",
            "Epoch 9/50\n",
            "703/703 [==============================] - 4s 6ms/step - loss: 1.1030 - accuracy: 0.5576 - val_loss: 1.0828 - val_accuracy: 0.5545\n",
            "Epoch 10/50\n",
            "703/703 [==============================] - 5s 7ms/step - loss: 1.0846 - accuracy: 0.5621 - val_loss: 1.0525 - val_accuracy: 0.5640\n",
            "Epoch 11/50\n",
            "703/703 [==============================] - 4s 6ms/step - loss: 1.0634 - accuracy: 0.5737 - val_loss: 1.0526 - val_accuracy: 0.5675\n",
            "Epoch 12/50\n",
            "703/703 [==============================] - 4s 5ms/step - loss: 1.0488 - accuracy: 0.5800 - val_loss: 1.0044 - val_accuracy: 0.5996\n",
            "Epoch 13/50\n",
            "703/703 [==============================] - 4s 5ms/step - loss: 1.0262 - accuracy: 0.5916 - val_loss: 0.9891 - val_accuracy: 0.6051\n",
            "Epoch 14/50\n",
            "703/703 [==============================] - 4s 5ms/step - loss: 1.0134 - accuracy: 0.5923 - val_loss: 0.9796 - val_accuracy: 0.6044\n",
            "Epoch 15/50\n",
            "703/703 [==============================] - 4s 5ms/step - loss: 0.9927 - accuracy: 0.6070 - val_loss: 1.0186 - val_accuracy: 0.5838\n",
            "Epoch 16/50\n",
            "703/703 [==============================] - 4s 6ms/step - loss: 0.9845 - accuracy: 0.6121 - val_loss: 0.9493 - val_accuracy: 0.6123\n",
            "Epoch 17/50\n",
            "703/703 [==============================] - 4s 5ms/step - loss: 0.9652 - accuracy: 0.6198 - val_loss: 0.9506 - val_accuracy: 0.6139\n",
            "Epoch 18/50\n",
            "703/703 [==============================] - 4s 5ms/step - loss: 0.9527 - accuracy: 0.6257 - val_loss: 0.9298 - val_accuracy: 0.6218\n",
            "Epoch 19/50\n",
            "703/703 [==============================] - 4s 5ms/step - loss: 0.9423 - accuracy: 0.6306 - val_loss: 0.9294 - val_accuracy: 0.6321\n",
            "Epoch 20/50\n",
            "703/703 [==============================] - 4s 5ms/step - loss: 0.9227 - accuracy: 0.6396 - val_loss: 0.9132 - val_accuracy: 0.6345\n",
            "Epoch 21/50\n",
            "703/703 [==============================] - 4s 5ms/step - loss: 0.9153 - accuracy: 0.6452 - val_loss: 0.8969 - val_accuracy: 0.6455\n",
            "Epoch 22/50\n",
            "703/703 [==============================] - 4s 5ms/step - loss: 0.8984 - accuracy: 0.6512 - val_loss: 0.8944 - val_accuracy: 0.6455\n",
            "Epoch 23/50\n",
            "703/703 [==============================] - 5s 7ms/step - loss: 0.8892 - accuracy: 0.6551 - val_loss: 0.8946 - val_accuracy: 0.6436\n",
            "Epoch 24/50\n",
            "703/703 [==============================] - 4s 5ms/step - loss: 0.8771 - accuracy: 0.6619 - val_loss: 0.8862 - val_accuracy: 0.6511\n",
            "Epoch 25/50\n",
            "703/703 [==============================] - 4s 5ms/step - loss: 0.8708 - accuracy: 0.6628 - val_loss: 0.8816 - val_accuracy: 0.6471\n",
            "Epoch 26/50\n",
            "703/703 [==============================] - 4s 5ms/step - loss: 0.8583 - accuracy: 0.6692 - val_loss: 0.8762 - val_accuracy: 0.6590\n",
            "Epoch 27/50\n",
            "703/703 [==============================] - 4s 5ms/step - loss: 0.8442 - accuracy: 0.6730 - val_loss: 0.8668 - val_accuracy: 0.6570\n",
            "Epoch 28/50\n",
            "703/703 [==============================] - 4s 5ms/step - loss: 0.8356 - accuracy: 0.6771 - val_loss: 0.8479 - val_accuracy: 0.6701\n",
            "Epoch 29/50\n",
            "703/703 [==============================] - 4s 5ms/step - loss: 0.8203 - accuracy: 0.6836 - val_loss: 0.8518 - val_accuracy: 0.6697\n",
            "Epoch 30/50\n",
            "703/703 [==============================] - 4s 5ms/step - loss: 0.8132 - accuracy: 0.6869 - val_loss: 0.8268 - val_accuracy: 0.6780\n",
            "Epoch 31/50\n",
            "703/703 [==============================] - 4s 6ms/step - loss: 0.8009 - accuracy: 0.6911 - val_loss: 0.8229 - val_accuracy: 0.6796\n",
            "Epoch 32/50\n",
            "703/703 [==============================] - 4s 5ms/step - loss: 0.7933 - accuracy: 0.6972 - val_loss: 0.8185 - val_accuracy: 0.6816\n",
            "Epoch 33/50\n",
            "703/703 [==============================] - 4s 5ms/step - loss: 0.7801 - accuracy: 0.7010 - val_loss: 0.8137 - val_accuracy: 0.6840\n",
            "Epoch 34/50\n",
            "703/703 [==============================] - 4s 5ms/step - loss: 0.7690 - accuracy: 0.7073 - val_loss: 0.8086 - val_accuracy: 0.6820\n",
            "Epoch 35/50\n",
            "703/703 [==============================] - 4s 5ms/step - loss: 0.7633 - accuracy: 0.7084 - val_loss: 0.7992 - val_accuracy: 0.6958\n",
            "Epoch 36/50\n",
            "703/703 [==============================] - 4s 5ms/step - loss: 0.7515 - accuracy: 0.7136 - val_loss: 0.8080 - val_accuracy: 0.6915\n",
            "Epoch 37/50\n",
            "703/703 [==============================] - 4s 5ms/step - loss: 0.7467 - accuracy: 0.7164 - val_loss: 0.8103 - val_accuracy: 0.6875\n",
            "Epoch 38/50\n",
            "703/703 [==============================] - 4s 5ms/step - loss: 0.7366 - accuracy: 0.7220 - val_loss: 0.8090 - val_accuracy: 0.6895\n",
            "Epoch 39/50\n",
            "703/703 [==============================] - 4s 5ms/step - loss: 0.7356 - accuracy: 0.7195 - val_loss: 0.7853 - val_accuracy: 0.6974\n",
            "Epoch 40/50\n",
            "703/703 [==============================] - 4s 5ms/step - loss: 0.7212 - accuracy: 0.7278 - val_loss: 0.7875 - val_accuracy: 0.6895\n",
            "Epoch 41/50\n",
            "703/703 [==============================] - 4s 5ms/step - loss: 0.7143 - accuracy: 0.7296 - val_loss: 0.7733 - val_accuracy: 0.6943\n",
            "Epoch 42/50\n",
            "703/703 [==============================] - 4s 5ms/step - loss: 0.7057 - accuracy: 0.7321 - val_loss: 0.8313 - val_accuracy: 0.6792\n",
            "Epoch 43/50\n",
            "703/703 [==============================] - 4s 5ms/step - loss: 0.6972 - accuracy: 0.7331 - val_loss: 0.7604 - val_accuracy: 0.7010\n",
            "Epoch 44/50\n",
            "703/703 [==============================] - 4s 5ms/step - loss: 0.6861 - accuracy: 0.7409 - val_loss: 0.7707 - val_accuracy: 0.6990\n",
            "Epoch 45/50\n",
            "703/703 [==============================] - 4s 5ms/step - loss: 0.6777 - accuracy: 0.7435 - val_loss: 0.8030 - val_accuracy: 0.6931\n",
            "Epoch 46/50\n",
            "703/703 [==============================] - 4s 5ms/step - loss: 0.6721 - accuracy: 0.7458 - val_loss: 0.7687 - val_accuracy: 0.7018\n",
            "Epoch 47/50\n",
            "703/703 [==============================] - 4s 5ms/step - loss: 0.6730 - accuracy: 0.7491 - val_loss: 0.7905 - val_accuracy: 0.6982\n",
            "Epoch 48/50\n",
            "703/703 [==============================] - 4s 5ms/step - loss: 0.6589 - accuracy: 0.7524 - val_loss: 0.7542 - val_accuracy: 0.7065\n",
            "Epoch 49/50\n",
            "703/703 [==============================] - 4s 5ms/step - loss: 0.6516 - accuracy: 0.7547 - val_loss: 0.7462 - val_accuracy: 0.7089\n",
            "Epoch 50/50\n",
            "703/703 [==============================] - 4s 5ms/step - loss: 0.6453 - accuracy: 0.7578 - val_loss: 0.7483 - val_accuracy: 0.7085\n"
          ]
        }
      ],
      "source": [
        "# you can use the default hyper-parameters for training, \n",
        "# and val accuracy ~59% after 25 epochs and > 63% after 50 epochs\n",
        "\n",
        "model.compile(optimizer=keras.optimizers.Adam(learning_rate=0.0001, decay=1e-6),\n",
        "              loss=tf.keras.losses.SparseCategoricalCrossentropy(from_logits=True),\n",
        "              metrics=['accuracy'])\n",
        "\n",
        "history = model.fit(train_images, train_labels, batch_size=32, epochs=50, \n",
        "                    validation_data=(val_images, val_labels)) # train for 50 epochs, with batch size 32"
      ]
    },
    {
      "cell_type": "code",
      "execution_count": null,
      "metadata": {
        "colab": {
          "base_uri": "https://localhost:8080/"
        },
        "id": "vOhpP7M24T9_",
        "outputId": "85901453-3db7-451c-c580-10d7fd5861de"
      },
      "outputs": [
        {
          "name": "stdout",
          "output_type": "stream",
          "text": [
            "20/20 [==============================] - 0s 8ms/step - loss: 0.7483 - accuracy: 0.7085\n"
          ]
        }
      ],
      "source": [
        "results = model.evaluate(val_images, val_labels, batch_size=128)"
      ]
    },
    {
      "cell_type": "code",
      "execution_count": null,
      "metadata": {
        "id": "5FpSsHsBj2wL"
      },
      "outputs": [],
      "source": [
        "model.save_weights(\"/content/drive/MyDrive/10605MP/pre_trained_weights.h5\")"
      ]
    },
    {
      "cell_type": "markdown",
      "metadata": {
        "id": "5BvVAL-wmFAY"
      },
      "source": [
        "### Pruning"
      ]
    },
    {
      "cell_type": "code",
      "execution_count": null,
      "metadata": {
        "id": "1FeRb0aA9ZKV"
      },
      "outputs": [],
      "source": [
        "layers = ['conv2d', 'conv2d_1', 'conv2d_2', 'conv2d_3', 'dense', 'dense_1']\n",
        "activations = ['activation', 'max_pooling2d', 'activation_2', 'max_pooling2d_1', 'activation_4']\n",
        "\n",
        "tf.random.set_seed(10605)\n",
        "IMAGE_SAMPLE_SIZE = 500\n",
        "LOCATION_SAMPLE_SIZE = 10\n",
        "\n",
        "image_sample = train_images[tf.random.uniform(shape=[IMAGE_SAMPLE_SIZE], maxval=train_images.shape[0], dtype=tf.int64)]"
      ]
    },
    {
      "cell_type": "code",
      "execution_count": null,
      "metadata": {
        "id": "ArwzF8hx9dpg"
      },
      "outputs": [],
      "source": [
        "def collect_training_ex(model, layer_idx):\n",
        "    cur_layer = model.get_layer(activations[layer_idx])\n",
        "    next_layer = model.get_layer(layers[layer_idx + 1])\n",
        "    model_till_then = models.Model(model.input, (cur_layer.output, next_layer.output))\n",
        "    weights = model.get_weights()\n",
        "\n",
        "    x, y = model_till_then(image_sample)\n",
        "\n",
        "    if layer_idx == 1:\n",
        "        # only 'conv2d_2' has zero padding\n",
        "        x = tf.pad(x, tf.constant([[0, 0], [1, 1], [1, 1], [0, 0]]), 'CONSTANT')\n",
        "    y -= weights[layer_idx * 2 + 3] # bias\n",
        "\n",
        "    C = x.shape[-1]\n",
        "\n",
        "    x_hat = []\n",
        "    y_hat = []\n",
        "\n",
        "    if layer_idx < 3:\n",
        "        # conv2d_1, conv2d_2\n",
        "        for image_i in tqdm(range(x.shape[0])):\n",
        "            for i in range(LOCATION_SAMPLE_SIZE):\n",
        "                h_i = tf.random.uniform(shape=[], maxval=y.shape[1], dtype=tf.int64)\n",
        "                w_i = tf.random.uniform(shape=[], maxval=y.shape[2], dtype=tf.int64)\n",
        "                x_ = tf.reshape(x[image_i, h_i:h_i+3, w_i:w_i+3, :], [-1, C])\n",
        "                channel_i = tf.random.uniform(shape=[], maxval=y.shape[-1], dtype=tf.int64)\n",
        "                w_ = tf.reshape(weights[layer_idx * 2 + 2][:, :, :, channel_i], [-1, C])\n",
        "                x_hat.append(tf.reduce_sum(x_ * w_, axis=0))\n",
        "                y_hat.append(y[image_i, h_i, w_i, channel_i])\n",
        "    elif layer_idx == 3:\n",
        "        # conv2d_3\n",
        "        for image_i in tqdm(range(x.shape[0])):\n",
        "            x_ = tf.reshape(x[image_i, :, :, :], [-1, C])\n",
        "            for i in range(LOCATION_SAMPLE_SIZE):\n",
        "                channel_i = tf.random.uniform(shape=[], maxval=y.shape[-1], dtype=tf.int64)\n",
        "                w_ = tf.reshape(weights[layer_idx * 2 + 2][:, channel_i], [-1, C])\n",
        "                x_hat.append(tf.reduce_sum(x_ * w_, axis=0))\n",
        "                y_hat.append(y[image_i, channel_i])\n",
        "    else:\n",
        "        # dense\n",
        "        for image_i in tqdm(range(x.shape[0])):\n",
        "            x_ = x[image_i, :]\n",
        "            for i in range(LOCATION_SAMPLE_SIZE):\n",
        "                channel_i = tf.random.uniform(shape=[], maxval=y.shape[-1], dtype=tf.int64)\n",
        "                w_ = weights[layer_idx * 2 + 2][:, channel_i]\n",
        "                x_hat.append(x_ * w_)\n",
        "                y_hat.append(y[image_i, channel_i])\n",
        "\n",
        "    x_hat = np.array(x_hat)\n",
        "    y_hat = np.array(y_hat).reshape(-1, 1)\n",
        "\n",
        "    m = IMAGE_SAMPLE_SIZE * LOCATION_SAMPLE_SIZE\n",
        "    assert x_hat.shape == (m, C)\n",
        "    assert y_hat.shape == (m, 1)\n",
        "\n",
        "    return x_hat, y_hat"
      ]
    },
    {
      "cell_type": "code",
      "execution_count": null,
      "metadata": {
        "id": "xt2cM05D9lSL"
      },
      "outputs": [],
      "source": [
        "def select_channel(x_hat, compression_rate):\n",
        "    C = x_hat.shape[-1]\n",
        "    pruned = set()\n",
        "    I = set(range(C))\n",
        "    x_sum = 0\n",
        "    num_pruned_channels = C * (1 - compression_rate)\n",
        "    while len(pruned) < num_pruned_channels:\n",
        "        min_value = float('inf')\n",
        "        for i in I:\n",
        "            value = tf.reduce_sum(tf.square(x_sum + x_hat[:, i]))\n",
        "            if value < min_value:\n",
        "                min_value = value\n",
        "                min_i = i\n",
        "        I.remove(min_i)\n",
        "        pruned.add(min_i)\n",
        "        x_sum += x_hat[:, min_i]\n",
        "    selected = sorted(set(range(C)) - pruned)\n",
        "    pruned = sorted(pruned)\n",
        "    return pruned, selected"
      ]
    },
    {
      "cell_type": "code",
      "execution_count": null,
      "metadata": {
        "id": "_GBRfZ2r9nWI"
      },
      "outputs": [],
      "source": [
        "def compress_model(model, compression_rate):\n",
        "    start = time.time()\n",
        "    \n",
        "    # get the weights\n",
        "    weights = model.get_weights()\n",
        "\n",
        "    for layer_idx in range(1, len(layers) - 1):\n",
        "\n",
        "        # prune\n",
        "        model.trainable = False\n",
        "\n",
        "        # collect training examples\n",
        "        x_hat, y_hat = collect_training_ex(model, layer_idx)\n",
        "\n",
        "        # greedy channel selection\n",
        "        pruned, selected = select_channel(x_hat, compression_rate)\n",
        "\n",
        "        # prune the corresponding filters in current layer\n",
        "        if layer_idx < 4:\n",
        "            weights[layer_idx * 2][:, :, :, pruned] = 0\n",
        "        else:\n",
        "            weights[layer_idx * 2][:, pruned] = 0\n",
        "\n",
        "        # prune the corresponding dimensions in next layer\n",
        "        if layer_idx < 3:\n",
        "            weights[layer_idx * 2 + 2][:, :, pruned, :] = 0\n",
        "        else:\n",
        "            weights[layer_idx * 2 + 2][pruned, :] = 0\n",
        "\n",
        "        # minimize reconstruction error by weighing selected channels\n",
        "        x_selected = x_hat[:, selected]\n",
        "        try:\n",
        "            w = tf.matmul(tf.linalg.inv(tf.matmul(tf.transpose(x_selected), x_selected)), tf.matmul(tf.transpose(x_selected), y_hat))\n",
        "            if layer_idx < 3:\n",
        "                weights[layer_idx * 2 + 2][:, :, selected, :] *= w\n",
        "            else:\n",
        "                weights[layer_idx * 2 + 2][selected, :] *= w\n",
        "        except tf.errors.InvalidArgumentError:\n",
        "            # not invertible\n",
        "            pass\n",
        "\n",
        "        model.set_weights(weights)\n",
        "\n",
        "        # fine-tune\n",
        "        model.trainable = True\n",
        "        model.compile(optimizer=keras.optimizers.Adam(learning_rate=0.0001, decay=1e-6),\n",
        "                loss=tf.keras.losses.SparseCategoricalCrossentropy(from_logits=True),\n",
        "                metrics=['accuracy'])\n",
        "        model.fit(train_images, train_labels, batch_size=32, epochs=2,\n",
        "                        validation_data=(val_images, val_labels))\n",
        "\n",
        "    end = time.time()\n",
        "    print(f\"Time: {end - start}\")\n",
        "\n",
        "    model.save_weights(f\"/content/drive/MyDrive/10605MP/my_model_weights_{compression_rate}.h5\")"
      ]
    },
    {
      "cell_type": "code",
      "execution_count": null,
      "metadata": {
        "id": "0pu2HMf59pl4"
      },
      "outputs": [],
      "source": [
        "def evaluate_model(model):\n",
        "    # evaluate again to see how the accuracy changes\n",
        "    accuracy = model.evaluate(val_images, val_labels, batch_size=128)[1]\n",
        "\n",
        "    weights = model.get_weights()\n",
        "    sparsity = 1 - sum(map(tf.math.count_nonzero, weights)) / sum(map(lambda x: x.size, weights))\n",
        "\n",
        "    score = (accuracy + sparsity) / 2\n",
        "    \n",
        "    return accuracy, sparsity, score"
      ]
    },
    {
      "cell_type": "code",
      "execution_count": null,
      "metadata": {
        "colab": {
          "base_uri": "https://localhost:8080/"
        },
        "id": "PqI7aindmySf",
        "outputId": "9348d368-c361-481a-acf1-52b9a11d4e2a"
      },
      "outputs": [
        {
          "name": "stderr",
          "output_type": "stream",
          "text": [
            "100%|██████████| 500/500 [00:25<00:00, 19.40it/s]\n"
          ]
        },
        {
          "name": "stdout",
          "output_type": "stream",
          "text": [
            "Epoch 1/2\n"
          ]
        },
        {
          "name": "stderr",
          "output_type": "stream",
          "text": [
            "/usr/local/lib/python3.8/dist-packages/tensorflow/python/util/dispatch.py:1082: UserWarning: \"`sparse_categorical_crossentropy` received `from_logits=True`, but the `output` argument was produced by a sigmoid or softmax activation and thus does not represent logits. Was this intended?\"\n",
            "  return dispatch_target(*args, **kwargs)\n"
          ]
        },
        {
          "name": "stdout",
          "output_type": "stream",
          "text": [
            "703/703 [==============================] - 6s 6ms/step - loss: 1.5128 - accuracy: 0.3204 - val_loss: 1.3657 - val_accuracy: 0.4083\n",
            "Epoch 2/2\n",
            "703/703 [==============================] - 4s 5ms/step - loss: 1.3458 - accuracy: 0.4226 - val_loss: 1.2714 - val_accuracy: 0.4598\n"
          ]
        },
        {
          "name": "stderr",
          "output_type": "stream",
          "text": [
            "100%|██████████| 500/500 [00:18<00:00, 26.86it/s]\n"
          ]
        },
        {
          "name": "stdout",
          "output_type": "stream",
          "text": [
            "Epoch 1/2\n",
            "703/703 [==============================] - 5s 6ms/step - loss: 1.5497 - accuracy: 0.2863 - val_loss: 1.4539 - val_accuracy: 0.3699\n",
            "Epoch 2/2\n",
            "703/703 [==============================] - 4s 5ms/step - loss: 1.4004 - accuracy: 0.3867 - val_loss: 1.3200 - val_accuracy: 0.4356\n"
          ]
        },
        {
          "name": "stderr",
          "output_type": "stream",
          "text": [
            "100%|██████████| 500/500 [00:08<00:00, 58.39it/s]\n"
          ]
        },
        {
          "name": "stdout",
          "output_type": "stream",
          "text": [
            "Epoch 1/2\n",
            "703/703 [==============================] - 5s 6ms/step - loss: 1.5497 - accuracy: 0.2846 - val_loss: 1.4534 - val_accuracy: 0.3655\n",
            "Epoch 2/2\n",
            "703/703 [==============================] - 4s 5ms/step - loss: 1.4043 - accuracy: 0.3814 - val_loss: 1.3116 - val_accuracy: 0.4337\n"
          ]
        },
        {
          "name": "stderr",
          "output_type": "stream",
          "text": [
            "100%|██████████| 500/500 [00:07<00:00, 68.78it/s]\n"
          ]
        },
        {
          "name": "stdout",
          "output_type": "stream",
          "text": [
            "Epoch 1/2\n",
            "703/703 [==============================] - 4s 6ms/step - loss: 1.5690 - accuracy: 0.2474 - val_loss: 1.4671 - val_accuracy: 0.3620\n",
            "Epoch 2/2\n",
            "703/703 [==============================] - 4s 5ms/step - loss: 1.4535 - accuracy: 0.3507 - val_loss: 1.4194 - val_accuracy: 0.3830\n",
            "Time: 176.5169713497162\n"
          ]
        },
        {
          "name": "stderr",
          "output_type": "stream",
          "text": [
            "100%|██████████| 500/500 [00:17<00:00, 28.57it/s]\n"
          ]
        },
        {
          "name": "stdout",
          "output_type": "stream",
          "text": [
            "Epoch 1/2\n",
            "703/703 [==============================] - 5s 6ms/step - loss: 1.4226 - accuracy: 0.3853 - val_loss: 1.2500 - val_accuracy: 0.4796\n",
            "Epoch 2/2\n",
            "703/703 [==============================] - 4s 5ms/step - loss: 1.2362 - accuracy: 0.4848 - val_loss: 1.1686 - val_accuracy: 0.5216\n"
          ]
        },
        {
          "name": "stderr",
          "output_type": "stream",
          "text": [
            "100%|██████████| 500/500 [00:17<00:00, 29.37it/s]\n"
          ]
        },
        {
          "name": "stdout",
          "output_type": "stream",
          "text": [
            "Epoch 1/2\n",
            "703/703 [==============================] - 4s 6ms/step - loss: 1.4404 - accuracy: 0.3640 - val_loss: 1.3129 - val_accuracy: 0.4412\n",
            "Epoch 2/2\n",
            "703/703 [==============================] - 4s 5ms/step - loss: 1.3218 - accuracy: 0.4345 - val_loss: 1.2493 - val_accuracy: 0.4705\n"
          ]
        },
        {
          "name": "stderr",
          "output_type": "stream",
          "text": [
            "100%|██████████| 500/500 [00:08<00:00, 57.45it/s]\n"
          ]
        },
        {
          "name": "stdout",
          "output_type": "stream",
          "text": [
            "Epoch 1/2\n",
            "703/703 [==============================] - 4s 5ms/step - loss: 1.4688 - accuracy: 0.3428 - val_loss: 1.3208 - val_accuracy: 0.4360\n",
            "Epoch 2/2\n",
            "703/703 [==============================] - 3s 5ms/step - loss: 1.3291 - accuracy: 0.4320 - val_loss: 1.2752 - val_accuracy: 0.4511\n"
          ]
        },
        {
          "name": "stderr",
          "output_type": "stream",
          "text": [
            "100%|██████████| 500/500 [00:06<00:00, 71.58it/s]\n"
          ]
        },
        {
          "name": "stdout",
          "output_type": "stream",
          "text": [
            "Epoch 1/2\n",
            "703/703 [==============================] - 4s 5ms/step - loss: 1.5288 - accuracy: 0.2978 - val_loss: 1.4121 - val_accuracy: 0.4040\n",
            "Epoch 2/2\n",
            "703/703 [==============================] - 4s 5ms/step - loss: 1.4378 - accuracy: 0.3631 - val_loss: 1.3694 - val_accuracy: 0.4123\n",
            "Time: 155.92761731147766\n"
          ]
        },
        {
          "name": "stderr",
          "output_type": "stream",
          "text": [
            "100%|██████████| 500/500 [00:18<00:00, 26.60it/s]\n"
          ]
        },
        {
          "name": "stdout",
          "output_type": "stream",
          "text": [
            "Epoch 1/2\n",
            "703/703 [==============================] - 4s 5ms/step - loss: 1.2047 - accuracy: 0.5122 - val_loss: 1.0866 - val_accuracy: 0.5608\n",
            "Epoch 2/2\n",
            "703/703 [==============================] - 4s 5ms/step - loss: 1.0768 - accuracy: 0.5677 - val_loss: 1.0272 - val_accuracy: 0.5897\n"
          ]
        },
        {
          "name": "stderr",
          "output_type": "stream",
          "text": [
            "100%|██████████| 500/500 [00:17<00:00, 28.78it/s]\n"
          ]
        },
        {
          "name": "stdout",
          "output_type": "stream",
          "text": [
            "Epoch 1/2\n",
            "703/703 [==============================] - 5s 6ms/step - loss: 1.3455 - accuracy: 0.4271 - val_loss: 1.2119 - val_accuracy: 0.4954\n",
            "Epoch 2/2\n",
            "703/703 [==============================] - 4s 5ms/step - loss: 1.2255 - accuracy: 0.4880 - val_loss: 1.1616 - val_accuracy: 0.5244\n"
          ]
        },
        {
          "name": "stderr",
          "output_type": "stream",
          "text": [
            "100%|██████████| 500/500 [00:08<00:00, 58.10it/s]\n"
          ]
        },
        {
          "name": "stdout",
          "output_type": "stream",
          "text": [
            "Epoch 1/2\n",
            "703/703 [==============================] - 4s 5ms/step - loss: 1.3664 - accuracy: 0.4105 - val_loss: 1.2501 - val_accuracy: 0.4677\n",
            "Epoch 2/2\n",
            "703/703 [==============================] - 4s 5ms/step - loss: 1.2643 - accuracy: 0.4653 - val_loss: 1.1893 - val_accuracy: 0.5046\n"
          ]
        },
        {
          "name": "stderr",
          "output_type": "stream",
          "text": [
            "100%|██████████| 500/500 [00:07<00:00, 71.21it/s]\n"
          ]
        },
        {
          "name": "stdout",
          "output_type": "stream",
          "text": [
            "Epoch 1/2\n",
            "703/703 [==============================] - 4s 5ms/step - loss: 1.4247 - accuracy: 0.3690 - val_loss: 1.3026 - val_accuracy: 0.4341\n",
            "Epoch 2/2\n",
            "703/703 [==============================] - 4s 5ms/step - loss: 1.3379 - accuracy: 0.4246 - val_loss: 1.2650 - val_accuracy: 0.4602\n",
            "Time: 157.1615207195282\n"
          ]
        },
        {
          "name": "stderr",
          "output_type": "stream",
          "text": [
            "100%|██████████| 500/500 [00:17<00:00, 28.79it/s]\n"
          ]
        },
        {
          "name": "stdout",
          "output_type": "stream",
          "text": [
            "Epoch 1/2\n",
            "703/703 [==============================] - 4s 6ms/step - loss: 1.1586 - accuracy: 0.5343 - val_loss: 1.0368 - val_accuracy: 0.5917\n",
            "Epoch 2/2\n",
            "703/703 [==============================] - 4s 5ms/step - loss: 1.0315 - accuracy: 0.5917 - val_loss: 0.9783 - val_accuracy: 0.6048\n"
          ]
        },
        {
          "name": "stderr",
          "output_type": "stream",
          "text": [
            "100%|██████████| 500/500 [00:17<00:00, 29.21it/s]\n"
          ]
        },
        {
          "name": "stdout",
          "output_type": "stream",
          "text": [
            "Epoch 1/2\n",
            "703/703 [==============================] - 5s 6ms/step - loss: 1.3167 - accuracy: 0.4432 - val_loss: 1.1802 - val_accuracy: 0.5081\n",
            "Epoch 2/2\n",
            "703/703 [==============================] - 4s 5ms/step - loss: 1.1832 - accuracy: 0.5134 - val_loss: 1.1091 - val_accuracy: 0.5517\n"
          ]
        },
        {
          "name": "stderr",
          "output_type": "stream",
          "text": [
            "100%|██████████| 500/500 [00:08<00:00, 57.64it/s]\n"
          ]
        },
        {
          "name": "stdout",
          "output_type": "stream",
          "text": [
            "Epoch 1/2\n",
            "703/703 [==============================] - 4s 5ms/step - loss: 1.3378 - accuracy: 0.4271 - val_loss: 1.2197 - val_accuracy: 0.4974\n",
            "Epoch 2/2\n",
            "703/703 [==============================] - 3s 5ms/step - loss: 1.2304 - accuracy: 0.4885 - val_loss: 1.1568 - val_accuracy: 0.5255\n"
          ]
        },
        {
          "name": "stderr",
          "output_type": "stream",
          "text": [
            "100%|██████████| 500/500 [00:07<00:00, 70.09it/s]\n"
          ]
        },
        {
          "name": "stdout",
          "output_type": "stream",
          "text": [
            "Epoch 1/2\n",
            "703/703 [==============================] - 4s 5ms/step - loss: 1.3916 - accuracy: 0.3918 - val_loss: 1.2623 - val_accuracy: 0.4693\n",
            "Epoch 2/2\n",
            "703/703 [==============================] - 4s 5ms/step - loss: 1.2886 - accuracy: 0.4566 - val_loss: 1.2104 - val_accuracy: 0.4947\n",
            "Time: 158.77826833724976\n"
          ]
        },
        {
          "name": "stderr",
          "output_type": "stream",
          "text": [
            "100%|██████████| 500/500 [00:18<00:00, 26.59it/s]\n"
          ]
        },
        {
          "name": "stdout",
          "output_type": "stream",
          "text": [
            "Epoch 1/2\n",
            "703/703 [==============================] - 5s 6ms/step - loss: 1.0137 - accuracy: 0.6033 - val_loss: 0.9210 - val_accuracy: 0.6352\n",
            "Epoch 2/2\n",
            "703/703 [==============================] - 4s 5ms/step - loss: 0.9176 - accuracy: 0.6441 - val_loss: 0.8967 - val_accuracy: 0.6412\n"
          ]
        },
        {
          "name": "stderr",
          "output_type": "stream",
          "text": [
            "100%|██████████| 500/500 [00:17<00:00, 29.16it/s]\n"
          ]
        },
        {
          "name": "stdout",
          "output_type": "stream",
          "text": [
            "Epoch 1/2\n",
            "703/703 [==============================] - 4s 5ms/step - loss: 1.2223 - accuracy: 0.5003 - val_loss: 1.0724 - val_accuracy: 0.5719\n",
            "Epoch 2/2\n",
            "703/703 [==============================] - 4s 5ms/step - loss: 1.0878 - accuracy: 0.5620 - val_loss: 1.0162 - val_accuracy: 0.5929\n"
          ]
        },
        {
          "name": "stderr",
          "output_type": "stream",
          "text": [
            "100%|██████████| 500/500 [00:08<00:00, 57.97it/s]\n"
          ]
        },
        {
          "name": "stdout",
          "output_type": "stream",
          "text": [
            "Epoch 1/2\n",
            "703/703 [==============================] - 4s 5ms/step - loss: 1.2762 - accuracy: 0.4637 - val_loss: 1.1354 - val_accuracy: 0.5343\n",
            "Epoch 2/2\n",
            "703/703 [==============================] - 4s 5ms/step - loss: 1.1555 - accuracy: 0.5285 - val_loss: 1.0737 - val_accuracy: 0.5628\n"
          ]
        },
        {
          "name": "stderr",
          "output_type": "stream",
          "text": [
            "100%|██████████| 500/500 [00:06<00:00, 72.42it/s]\n"
          ]
        },
        {
          "name": "stdout",
          "output_type": "stream",
          "text": [
            "Epoch 1/2\n",
            "703/703 [==============================] - 5s 6ms/step - loss: 1.3501 - accuracy: 0.4244 - val_loss: 1.1865 - val_accuracy: 0.5168\n",
            "Epoch 2/2\n",
            "703/703 [==============================] - 4s 5ms/step - loss: 1.2351 - accuracy: 0.4865 - val_loss: 1.1331 - val_accuracy: 0.5319\n",
            "Time: 160.61018300056458\n"
          ]
        },
        {
          "name": "stderr",
          "output_type": "stream",
          "text": [
            "100%|██████████| 500/500 [00:17<00:00, 29.29it/s]\n"
          ]
        },
        {
          "name": "stdout",
          "output_type": "stream",
          "text": [
            "Epoch 1/2\n",
            "703/703 [==============================] - 4s 5ms/step - loss: 0.9818 - accuracy: 0.6204 - val_loss: 0.8906 - val_accuracy: 0.6574\n",
            "Epoch 2/2\n",
            "703/703 [==============================] - 3s 5ms/step - loss: 0.8824 - accuracy: 0.6616 - val_loss: 0.8564 - val_accuracy: 0.6669\n"
          ]
        },
        {
          "name": "stderr",
          "output_type": "stream",
          "text": [
            "100%|██████████| 500/500 [00:16<00:00, 29.54it/s]\n"
          ]
        },
        {
          "name": "stdout",
          "output_type": "stream",
          "text": [
            "Epoch 1/2\n",
            "703/703 [==============================] - 5s 5ms/step - loss: 1.1495 - accuracy: 0.5403 - val_loss: 1.0089 - val_accuracy: 0.6040\n",
            "Epoch 2/2\n",
            "703/703 [==============================] - 4s 5ms/step - loss: 1.0268 - accuracy: 0.5955 - val_loss: 0.9465 - val_accuracy: 0.6289\n"
          ]
        },
        {
          "name": "stderr",
          "output_type": "stream",
          "text": [
            "100%|██████████| 500/500 [00:08<00:00, 58.40it/s]\n"
          ]
        },
        {
          "name": "stdout",
          "output_type": "stream",
          "text": [
            "Epoch 1/2\n",
            "703/703 [==============================] - 4s 5ms/step - loss: 1.2301 - accuracy: 0.4966 - val_loss: 1.0823 - val_accuracy: 0.5711\n",
            "Epoch 2/2\n",
            "703/703 [==============================] - 4s 5ms/step - loss: 1.1170 - accuracy: 0.5507 - val_loss: 1.0251 - val_accuracy: 0.5861\n"
          ]
        },
        {
          "name": "stderr",
          "output_type": "stream",
          "text": [
            "100%|██████████| 500/500 [00:07<00:00, 71.36it/s]\n"
          ]
        },
        {
          "name": "stdout",
          "output_type": "stream",
          "text": [
            "Epoch 1/2\n",
            "703/703 [==============================] - 4s 5ms/step - loss: 1.2928 - accuracy: 0.4575 - val_loss: 1.1267 - val_accuracy: 0.5457\n",
            "Epoch 2/2\n",
            "703/703 [==============================] - 3s 5ms/step - loss: 1.1797 - accuracy: 0.5253 - val_loss: 1.0818 - val_accuracy: 0.5640\n",
            "Time: 153.98304319381714\n"
          ]
        },
        {
          "name": "stderr",
          "output_type": "stream",
          "text": [
            "100%|██████████| 500/500 [00:19<00:00, 26.18it/s]\n"
          ]
        },
        {
          "name": "stdout",
          "output_type": "stream",
          "text": [
            "Epoch 1/2\n",
            "703/703 [==============================] - 5s 6ms/step - loss: 0.9439 - accuracy: 0.6286 - val_loss: 0.8901 - val_accuracy: 0.6574\n",
            "Epoch 2/2\n",
            "703/703 [==============================] - 4s 5ms/step - loss: 0.8691 - accuracy: 0.6640 - val_loss: 0.8717 - val_accuracy: 0.6701\n"
          ]
        },
        {
          "name": "stderr",
          "output_type": "stream",
          "text": [
            "100%|██████████| 500/500 [00:16<00:00, 29.62it/s]\n"
          ]
        },
        {
          "name": "stdout",
          "output_type": "stream",
          "text": [
            "Epoch 1/2\n",
            "703/703 [==============================] - 4s 5ms/step - loss: 1.1112 - accuracy: 0.5493 - val_loss: 0.9821 - val_accuracy: 0.6095\n",
            "Epoch 2/2\n",
            "703/703 [==============================] - 4s 5ms/step - loss: 1.0081 - accuracy: 0.6014 - val_loss: 0.9450 - val_accuracy: 0.6297\n"
          ]
        },
        {
          "name": "stderr",
          "output_type": "stream",
          "text": [
            "100%|██████████| 500/500 [00:08<00:00, 58.58it/s]\n"
          ]
        },
        {
          "name": "stdout",
          "output_type": "stream",
          "text": [
            "Epoch 1/2\n",
            "703/703 [==============================] - 4s 5ms/step - loss: 1.1841 - accuracy: 0.5089 - val_loss: 1.0547 - val_accuracy: 0.5790\n",
            "Epoch 2/2\n",
            "703/703 [==============================] - 4s 5ms/step - loss: 1.0869 - accuracy: 0.5668 - val_loss: 1.0166 - val_accuracy: 0.5901\n"
          ]
        },
        {
          "name": "stderr",
          "output_type": "stream",
          "text": [
            "100%|██████████| 500/500 [00:07<00:00, 70.82it/s]\n"
          ]
        },
        {
          "name": "stdout",
          "output_type": "stream",
          "text": [
            "Epoch 1/2\n",
            "703/703 [==============================] - 4s 5ms/step - loss: 1.2405 - accuracy: 0.4778 - val_loss: 1.0959 - val_accuracy: 0.5549\n",
            "Epoch 2/2\n",
            "703/703 [==============================] - 3s 5ms/step - loss: 1.1383 - accuracy: 0.5399 - val_loss: 1.0495 - val_accuracy: 0.5782\n",
            "Time: 151.7623736858368\n"
          ]
        },
        {
          "name": "stderr",
          "output_type": "stream",
          "text": [
            "100%|██████████| 500/500 [00:16<00:00, 29.53it/s]\n"
          ]
        },
        {
          "name": "stdout",
          "output_type": "stream",
          "text": [
            "Epoch 1/2\n",
            "703/703 [==============================] - 4s 5ms/step - loss: 0.8773 - accuracy: 0.6597 - val_loss: 0.8355 - val_accuracy: 0.6784\n",
            "Epoch 2/2\n",
            "703/703 [==============================] - 4s 5ms/step - loss: 0.8134 - accuracy: 0.6901 - val_loss: 0.8201 - val_accuracy: 0.6816\n"
          ]
        },
        {
          "name": "stderr",
          "output_type": "stream",
          "text": [
            "100%|██████████| 500/500 [00:16<00:00, 29.56it/s]\n"
          ]
        },
        {
          "name": "stdout",
          "output_type": "stream",
          "text": [
            "Epoch 1/2\n",
            "703/703 [==============================] - 4s 5ms/step - loss: 1.0389 - accuracy: 0.5883 - val_loss: 0.9237 - val_accuracy: 0.6376\n",
            "Epoch 2/2\n",
            "703/703 [==============================] - 3s 5ms/step - loss: 0.9398 - accuracy: 0.6341 - val_loss: 0.8872 - val_accuracy: 0.6527\n"
          ]
        },
        {
          "name": "stderr",
          "output_type": "stream",
          "text": [
            "100%|██████████| 500/500 [00:08<00:00, 59.16it/s]\n"
          ]
        },
        {
          "name": "stdout",
          "output_type": "stream",
          "text": [
            "Epoch 1/2\n",
            "703/703 [==============================] - 4s 5ms/step - loss: 1.1431 - accuracy: 0.5386 - val_loss: 1.0097 - val_accuracy: 0.5992\n",
            "Epoch 2/2\n",
            "703/703 [==============================] - 3s 5ms/step - loss: 1.0346 - accuracy: 0.5905 - val_loss: 0.9725 - val_accuracy: 0.6107\n"
          ]
        },
        {
          "name": "stderr",
          "output_type": "stream",
          "text": [
            "100%|██████████| 500/500 [00:06<00:00, 72.39it/s]\n"
          ]
        },
        {
          "name": "stdout",
          "output_type": "stream",
          "text": [
            "Epoch 1/2\n",
            "703/703 [==============================] - 4s 5ms/step - loss: 1.1976 - accuracy: 0.5086 - val_loss: 1.0461 - val_accuracy: 0.5842\n",
            "Epoch 2/2\n",
            "703/703 [==============================] - 3s 5ms/step - loss: 1.0934 - accuracy: 0.5610 - val_loss: 1.0122 - val_accuracy: 0.6028\n",
            "Time: 145.14351105690002\n"
          ]
        },
        {
          "name": "stderr",
          "output_type": "stream",
          "text": [
            "100%|██████████| 500/500 [00:17<00:00, 28.86it/s]\n"
          ]
        },
        {
          "name": "stdout",
          "output_type": "stream",
          "text": [
            "Epoch 1/2\n",
            "703/703 [==============================] - 6s 7ms/step - loss: 0.8429 - accuracy: 0.6747 - val_loss: 0.8189 - val_accuracy: 0.6867\n",
            "Epoch 2/2\n",
            "703/703 [==============================] - 3s 5ms/step - loss: 0.7805 - accuracy: 0.7023 - val_loss: 0.8023 - val_accuracy: 0.6935\n"
          ]
        },
        {
          "name": "stderr",
          "output_type": "stream",
          "text": [
            "100%|██████████| 500/500 [00:17<00:00, 28.85it/s]\n"
          ]
        },
        {
          "name": "stdout",
          "output_type": "stream",
          "text": [
            "Epoch 1/2\n",
            "703/703 [==============================] - 4s 6ms/step - loss: 0.9747 - accuracy: 0.6184 - val_loss: 0.8919 - val_accuracy: 0.6428\n",
            "Epoch 2/2\n",
            "703/703 [==============================] - 4s 5ms/step - loss: 0.8844 - accuracy: 0.6582 - val_loss: 0.8536 - val_accuracy: 0.6701\n"
          ]
        },
        {
          "name": "stderr",
          "output_type": "stream",
          "text": [
            "100%|██████████| 500/500 [00:08<00:00, 58.37it/s]\n"
          ]
        },
        {
          "name": "stdout",
          "output_type": "stream",
          "text": [
            "Epoch 1/2\n",
            "703/703 [==============================] - 4s 5ms/step - loss: 1.0910 - accuracy: 0.5640 - val_loss: 0.9838 - val_accuracy: 0.6040\n",
            "Epoch 2/2\n",
            "703/703 [==============================] - 3s 5ms/step - loss: 0.9987 - accuracy: 0.6081 - val_loss: 0.9385 - val_accuracy: 0.6253\n"
          ]
        },
        {
          "name": "stderr",
          "output_type": "stream",
          "text": [
            "100%|██████████| 500/500 [00:06<00:00, 71.80it/s]\n"
          ]
        },
        {
          "name": "stdout",
          "output_type": "stream",
          "text": [
            "Epoch 1/2\n",
            "703/703 [==============================] - 4s 5ms/step - loss: 1.1424 - accuracy: 0.5398 - val_loss: 1.0145 - val_accuracy: 0.5869\n",
            "Epoch 2/2\n",
            "703/703 [==============================] - 4s 5ms/step - loss: 1.0486 - accuracy: 0.5820 - val_loss: 0.9761 - val_accuracy: 0.6063\n",
            "Time: 145.4160828590393\n"
          ]
        },
        {
          "name": "stderr",
          "output_type": "stream",
          "text": [
            "100%|██████████| 500/500 [00:17<00:00, 29.22it/s]\n"
          ]
        },
        {
          "name": "stdout",
          "output_type": "stream",
          "text": [
            "Epoch 1/2\n",
            "703/703 [==============================] - 4s 6ms/step - loss: 0.8054 - accuracy: 0.6930 - val_loss: 0.7922 - val_accuracy: 0.6879\n",
            "Epoch 2/2\n",
            "703/703 [==============================] - 4s 5ms/step - loss: 0.7495 - accuracy: 0.7179 - val_loss: 0.7751 - val_accuracy: 0.7026\n"
          ]
        },
        {
          "name": "stderr",
          "output_type": "stream",
          "text": [
            "100%|██████████| 500/500 [00:16<00:00, 29.73it/s]\n"
          ]
        },
        {
          "name": "stdout",
          "output_type": "stream",
          "text": [
            "Epoch 1/2\n",
            "703/703 [==============================] - 4s 5ms/step - loss: 0.9405 - accuracy: 0.6379 - val_loss: 0.8655 - val_accuracy: 0.6646\n",
            "Epoch 2/2\n",
            "703/703 [==============================] - 3s 5ms/step - loss: 0.8591 - accuracy: 0.6716 - val_loss: 0.8339 - val_accuracy: 0.6780\n"
          ]
        },
        {
          "name": "stderr",
          "output_type": "stream",
          "text": [
            "100%|██████████| 500/500 [00:08<00:00, 58.76it/s]\n"
          ]
        },
        {
          "name": "stdout",
          "output_type": "stream",
          "text": [
            "Epoch 1/2\n",
            "703/703 [==============================] - 5s 6ms/step - loss: 1.0415 - accuracy: 0.5889 - val_loss: 0.9409 - val_accuracy: 0.6301\n",
            "Epoch 2/2\n",
            "703/703 [==============================] - 3s 5ms/step - loss: 0.9584 - accuracy: 0.6259 - val_loss: 0.9028 - val_accuracy: 0.6412\n"
          ]
        },
        {
          "name": "stderr",
          "output_type": "stream",
          "text": [
            "100%|██████████| 500/500 [00:06<00:00, 72.48it/s]\n"
          ]
        },
        {
          "name": "stdout",
          "output_type": "stream",
          "text": [
            "Epoch 1/2\n",
            "703/703 [==============================] - 4s 5ms/step - loss: 1.0852 - accuracy: 0.5706 - val_loss: 0.9754 - val_accuracy: 0.6150\n",
            "Epoch 2/2\n",
            "703/703 [==============================] - 3s 5ms/step - loss: 1.0001 - accuracy: 0.6053 - val_loss: 0.9266 - val_accuracy: 0.6356\n",
            "Time: 141.02934575080872\n"
          ]
        },
        {
          "name": "stderr",
          "output_type": "stream",
          "text": [
            "100%|██████████| 500/500 [00:17<00:00, 29.34it/s]\n"
          ]
        },
        {
          "name": "stdout",
          "output_type": "stream",
          "text": [
            "Epoch 1/2\n",
            "703/703 [==============================] - 4s 5ms/step - loss: 0.7474 - accuracy: 0.7167 - val_loss: 0.7892 - val_accuracy: 0.6986\n",
            "Epoch 2/2\n",
            "703/703 [==============================] - 4s 5ms/step - loss: 0.7202 - accuracy: 0.7301 - val_loss: 0.7800 - val_accuracy: 0.7050\n"
          ]
        },
        {
          "name": "stderr",
          "output_type": "stream",
          "text": [
            "100%|██████████| 500/500 [00:19<00:00, 25.88it/s]\n"
          ]
        },
        {
          "name": "stdout",
          "output_type": "stream",
          "text": [
            "Epoch 1/2\n",
            "703/703 [==============================] - 5s 6ms/step - loss: 0.8475 - accuracy: 0.6766 - val_loss: 0.8218 - val_accuracy: 0.6784\n",
            "Epoch 2/2\n",
            "703/703 [==============================] - 4s 5ms/step - loss: 0.7897 - accuracy: 0.7019 - val_loss: 0.8068 - val_accuracy: 0.6899\n"
          ]
        },
        {
          "name": "stderr",
          "output_type": "stream",
          "text": [
            "100%|██████████| 500/500 [00:08<00:00, 55.58it/s]\n"
          ]
        },
        {
          "name": "stdout",
          "output_type": "stream",
          "text": [
            "Epoch 1/2\n",
            "703/703 [==============================] - 5s 6ms/step - loss: 0.9635 - accuracy: 0.6206 - val_loss: 0.8856 - val_accuracy: 0.6554\n",
            "Epoch 2/2\n",
            "703/703 [==============================] - 3s 5ms/step - loss: 0.8862 - accuracy: 0.6544 - val_loss: 0.8517 - val_accuracy: 0.6673\n"
          ]
        },
        {
          "name": "stderr",
          "output_type": "stream",
          "text": [
            "100%|██████████| 500/500 [00:07<00:00, 70.13it/s]\n"
          ]
        },
        {
          "name": "stdout",
          "output_type": "stream",
          "text": [
            "Epoch 1/2\n",
            "703/703 [==============================] - 5s 6ms/step - loss: 1.0083 - accuracy: 0.6023 - val_loss: 0.9002 - val_accuracy: 0.6511\n",
            "Epoch 2/2\n",
            "703/703 [==============================] - 3s 5ms/step - loss: 0.9279 - accuracy: 0.6361 - val_loss: 0.8750 - val_accuracy: 0.6570\n",
            "Time: 142.0419635772705\n"
          ]
        },
        {
          "name": "stderr",
          "output_type": "stream",
          "text": [
            "100%|██████████| 500/500 [00:16<00:00, 29.66it/s]\n"
          ]
        },
        {
          "name": "stdout",
          "output_type": "stream",
          "text": [
            "Epoch 1/2\n",
            "703/703 [==============================] - 4s 5ms/step - loss: 0.7547 - accuracy: 0.7122 - val_loss: 0.7815 - val_accuracy: 0.6994\n",
            "Epoch 2/2\n",
            "703/703 [==============================] - 4s 5ms/step - loss: 0.7265 - accuracy: 0.7280 - val_loss: 0.7713 - val_accuracy: 0.7034\n"
          ]
        },
        {
          "name": "stderr",
          "output_type": "stream",
          "text": [
            "100%|██████████| 500/500 [00:16<00:00, 29.64it/s]\n"
          ]
        },
        {
          "name": "stdout",
          "output_type": "stream",
          "text": [
            "Epoch 1/2\n",
            "703/703 [==============================] - 4s 5ms/step - loss: 0.8387 - accuracy: 0.6806 - val_loss: 0.8272 - val_accuracy: 0.6796\n",
            "Epoch 2/2\n",
            "703/703 [==============================] - 4s 5ms/step - loss: 0.7823 - accuracy: 0.7025 - val_loss: 0.8086 - val_accuracy: 0.6899\n"
          ]
        },
        {
          "name": "stderr",
          "output_type": "stream",
          "text": [
            "100%|██████████| 500/500 [00:08<00:00, 58.57it/s]\n"
          ]
        },
        {
          "name": "stdout",
          "output_type": "stream",
          "text": [
            "Epoch 1/2\n",
            "703/703 [==============================] - 5s 6ms/step - loss: 0.9404 - accuracy: 0.6340 - val_loss: 0.8864 - val_accuracy: 0.6547\n",
            "Epoch 2/2\n",
            "703/703 [==============================] - 4s 5ms/step - loss: 0.8706 - accuracy: 0.6624 - val_loss: 0.8542 - val_accuracy: 0.6681\n"
          ]
        },
        {
          "name": "stderr",
          "output_type": "stream",
          "text": [
            "100%|██████████| 500/500 [00:07<00:00, 63.40it/s]\n"
          ]
        },
        {
          "name": "stdout",
          "output_type": "stream",
          "text": [
            "Epoch 1/2\n",
            "703/703 [==============================] - 4s 5ms/step - loss: 0.9827 - accuracy: 0.6117 - val_loss: 0.9027 - val_accuracy: 0.6487\n",
            "Epoch 2/2\n",
            "703/703 [==============================] - 4s 5ms/step - loss: 0.9114 - accuracy: 0.6434 - val_loss: 0.8679 - val_accuracy: 0.6634\n",
            "Time: 140.60308361053467\n"
          ]
        },
        {
          "name": "stderr",
          "output_type": "stream",
          "text": [
            "100%|██████████| 500/500 [00:16<00:00, 29.73it/s]\n"
          ]
        },
        {
          "name": "stdout",
          "output_type": "stream",
          "text": [
            "Epoch 1/2\n",
            "703/703 [==============================] - 4s 5ms/step - loss: 0.7175 - accuracy: 0.7259 - val_loss: 0.7830 - val_accuracy: 0.6990\n",
            "Epoch 2/2\n",
            "703/703 [==============================] - 3s 5ms/step - loss: 0.6979 - accuracy: 0.7376 - val_loss: 0.7693 - val_accuracy: 0.7101\n"
          ]
        },
        {
          "name": "stderr",
          "output_type": "stream",
          "text": [
            "100%|██████████| 500/500 [00:16<00:00, 30.14it/s]\n"
          ]
        },
        {
          "name": "stdout",
          "output_type": "stream",
          "text": [
            "Epoch 1/2\n",
            "703/703 [==============================] - 4s 5ms/step - loss: 0.7903 - accuracy: 0.6968 - val_loss: 0.8063 - val_accuracy: 0.6844\n",
            "Epoch 2/2\n",
            "703/703 [==============================] - 3s 5ms/step - loss: 0.7461 - accuracy: 0.7181 - val_loss: 0.7923 - val_accuracy: 0.6923\n"
          ]
        },
        {
          "name": "stderr",
          "output_type": "stream",
          "text": [
            "100%|██████████| 500/500 [00:08<00:00, 55.56it/s]\n"
          ]
        },
        {
          "name": "stdout",
          "output_type": "stream",
          "text": [
            "Epoch 1/2\n",
            "703/703 [==============================] - 5s 6ms/step - loss: 0.8915 - accuracy: 0.6545 - val_loss: 0.8556 - val_accuracy: 0.6673\n",
            "Epoch 2/2\n",
            "703/703 [==============================] - 4s 5ms/step - loss: 0.8286 - accuracy: 0.6811 - val_loss: 0.8196 - val_accuracy: 0.6832\n"
          ]
        },
        {
          "name": "stderr",
          "output_type": "stream",
          "text": [
            "100%|██████████| 500/500 [00:07<00:00, 71.41it/s]\n"
          ]
        },
        {
          "name": "stdout",
          "output_type": "stream",
          "text": [
            "Epoch 1/2\n",
            "703/703 [==============================] - 4s 5ms/step - loss: 0.9293 - accuracy: 0.6390 - val_loss: 0.8626 - val_accuracy: 0.6681\n",
            "Epoch 2/2\n",
            "703/703 [==============================] - 4s 5ms/step - loss: 0.8625 - accuracy: 0.6668 - val_loss: 0.8342 - val_accuracy: 0.6752\n",
            "Time: 133.64826774597168\n"
          ]
        },
        {
          "name": "stderr",
          "output_type": "stream",
          "text": [
            "100%|██████████| 500/500 [00:16<00:00, 29.70it/s]\n"
          ]
        },
        {
          "name": "stdout",
          "output_type": "stream",
          "text": [
            "Epoch 1/2\n",
            "703/703 [==============================] - 4s 5ms/step - loss: 0.7117 - accuracy: 0.7290 - val_loss: 0.7782 - val_accuracy: 0.6994\n",
            "Epoch 2/2\n",
            "703/703 [==============================] - 4s 5ms/step - loss: 0.6927 - accuracy: 0.7404 - val_loss: 0.7685 - val_accuracy: 0.7038\n"
          ]
        },
        {
          "name": "stderr",
          "output_type": "stream",
          "text": [
            "100%|██████████| 500/500 [00:17<00:00, 28.98it/s]\n"
          ]
        },
        {
          "name": "stdout",
          "output_type": "stream",
          "text": [
            "Epoch 1/2\n",
            "703/703 [==============================] - 5s 6ms/step - loss: 0.7643 - accuracy: 0.7094 - val_loss: 0.8007 - val_accuracy: 0.6887\n",
            "Epoch 2/2\n",
            "703/703 [==============================] - 3s 5ms/step - loss: 0.7279 - accuracy: 0.7262 - val_loss: 0.7823 - val_accuracy: 0.6974\n"
          ]
        },
        {
          "name": "stderr",
          "output_type": "stream",
          "text": [
            "100%|██████████| 500/500 [00:08<00:00, 58.26it/s]\n"
          ]
        },
        {
          "name": "stdout",
          "output_type": "stream",
          "text": [
            "Epoch 1/2\n",
            "703/703 [==============================] - 4s 5ms/step - loss: 0.8522 - accuracy: 0.6738 - val_loss: 0.8357 - val_accuracy: 0.6737\n",
            "Epoch 2/2\n",
            "703/703 [==============================] - 4s 5ms/step - loss: 0.7995 - accuracy: 0.6948 - val_loss: 0.8097 - val_accuracy: 0.6907\n"
          ]
        },
        {
          "name": "stderr",
          "output_type": "stream",
          "text": [
            "100%|██████████| 500/500 [00:06<00:00, 72.10it/s]\n"
          ]
        },
        {
          "name": "stdout",
          "output_type": "stream",
          "text": [
            "Epoch 1/2\n",
            "703/703 [==============================] - 4s 6ms/step - loss: 0.8838 - accuracy: 0.6584 - val_loss: 0.8472 - val_accuracy: 0.6693\n",
            "Epoch 2/2\n",
            "703/703 [==============================] - 3s 5ms/step - loss: 0.8284 - accuracy: 0.6800 - val_loss: 0.8268 - val_accuracy: 0.6832\n",
            "Time: 126.4428939819336\n"
          ]
        },
        {
          "name": "stderr",
          "output_type": "stream",
          "text": [
            "100%|██████████| 500/500 [00:16<00:00, 29.83it/s]\n"
          ]
        },
        {
          "name": "stdout",
          "output_type": "stream",
          "text": [
            "Epoch 1/2\n",
            "703/703 [==============================] - 4s 5ms/step - loss: 0.6923 - accuracy: 0.7358 - val_loss: 0.7739 - val_accuracy: 0.7010\n",
            "Epoch 2/2\n",
            "703/703 [==============================] - 4s 5ms/step - loss: 0.6806 - accuracy: 0.7424 - val_loss: 0.7589 - val_accuracy: 0.7022\n"
          ]
        },
        {
          "name": "stderr",
          "output_type": "stream",
          "text": [
            "100%|██████████| 500/500 [00:16<00:00, 29.83it/s]\n"
          ]
        },
        {
          "name": "stdout",
          "output_type": "stream",
          "text": [
            "Epoch 1/2\n",
            "703/703 [==============================] - 4s 5ms/step - loss: 0.7408 - accuracy: 0.7155 - val_loss: 0.7873 - val_accuracy: 0.6958\n",
            "Epoch 2/2\n",
            "703/703 [==============================] - 3s 5ms/step - loss: 0.7146 - accuracy: 0.7311 - val_loss: 0.7690 - val_accuracy: 0.7006\n"
          ]
        },
        {
          "name": "stderr",
          "output_type": "stream",
          "text": [
            "100%|██████████| 500/500 [00:08<00:00, 58.55it/s]\n"
          ]
        },
        {
          "name": "stdout",
          "output_type": "stream",
          "text": [
            "Epoch 1/2\n",
            "703/703 [==============================] - 4s 5ms/step - loss: 0.8111 - accuracy: 0.6898 - val_loss: 0.8146 - val_accuracy: 0.6824\n",
            "Epoch 2/2\n",
            "703/703 [==============================] - 4s 5ms/step - loss: 0.7733 - accuracy: 0.7073 - val_loss: 0.7912 - val_accuracy: 0.6982\n"
          ]
        },
        {
          "name": "stderr",
          "output_type": "stream",
          "text": [
            "100%|██████████| 500/500 [00:06<00:00, 73.02it/s]\n"
          ]
        },
        {
          "name": "stdout",
          "output_type": "stream",
          "text": [
            "Epoch 1/2\n",
            "703/703 [==============================] - 6s 8ms/step - loss: 0.8363 - accuracy: 0.6755 - val_loss: 0.8197 - val_accuracy: 0.6863\n",
            "Epoch 2/2\n",
            "703/703 [==============================] - 4s 5ms/step - loss: 0.7943 - accuracy: 0.6982 - val_loss: 0.7956 - val_accuracy: 0.6970\n",
            "Time: 120.41673946380615\n"
          ]
        },
        {
          "name": "stderr",
          "output_type": "stream",
          "text": [
            "100%|██████████| 500/500 [00:16<00:00, 29.49it/s]\n"
          ]
        },
        {
          "name": "stdout",
          "output_type": "stream",
          "text": [
            "Epoch 1/2\n",
            "703/703 [==============================] - 5s 6ms/step - loss: 0.6830 - accuracy: 0.7407 - val_loss: 0.7650 - val_accuracy: 0.7050\n",
            "Epoch 2/2\n",
            "703/703 [==============================] - 4s 5ms/step - loss: 0.6714 - accuracy: 0.7464 - val_loss: 0.7518 - val_accuracy: 0.7057\n"
          ]
        },
        {
          "name": "stderr",
          "output_type": "stream",
          "text": [
            "100%|██████████| 500/500 [00:16<00:00, 29.75it/s]\n"
          ]
        },
        {
          "name": "stdout",
          "output_type": "stream",
          "text": [
            "Epoch 1/2\n",
            "703/703 [==============================] - 4s 6ms/step - loss: 0.7149 - accuracy: 0.7280 - val_loss: 0.7729 - val_accuracy: 0.7034\n",
            "Epoch 2/2\n",
            "703/703 [==============================] - 4s 5ms/step - loss: 0.6937 - accuracy: 0.7397 - val_loss: 0.7545 - val_accuracy: 0.7046\n"
          ]
        },
        {
          "name": "stderr",
          "output_type": "stream",
          "text": [
            "100%|██████████| 500/500 [00:08<00:00, 58.75it/s]\n"
          ]
        },
        {
          "name": "stdout",
          "output_type": "stream",
          "text": [
            "Epoch 1/2\n",
            "703/703 [==============================] - 5s 6ms/step - loss: 0.7762 - accuracy: 0.7029 - val_loss: 0.8014 - val_accuracy: 0.6840\n",
            "Epoch 2/2\n",
            "703/703 [==============================] - 4s 5ms/step - loss: 0.7416 - accuracy: 0.7177 - val_loss: 0.7765 - val_accuracy: 0.6982\n"
          ]
        },
        {
          "name": "stderr",
          "output_type": "stream",
          "text": [
            "100%|██████████| 500/500 [00:06<00:00, 71.71it/s]\n"
          ]
        },
        {
          "name": "stdout",
          "output_type": "stream",
          "text": [
            "Epoch 1/2\n",
            "703/703 [==============================] - 4s 5ms/step - loss: 0.7965 - accuracy: 0.6951 - val_loss: 0.8060 - val_accuracy: 0.6804\n",
            "Epoch 2/2\n",
            "703/703 [==============================] - 4s 5ms/step - loss: 0.7592 - accuracy: 0.7101 - val_loss: 0.7833 - val_accuracy: 0.6998\n",
            "Time: 116.32448673248291\n"
          ]
        },
        {
          "name": "stderr",
          "output_type": "stream",
          "text": [
            "100%|██████████| 500/500 [00:16<00:00, 30.16it/s]\n"
          ]
        },
        {
          "name": "stdout",
          "output_type": "stream",
          "text": [
            "Epoch 1/2\n",
            "703/703 [==============================] - 4s 5ms/step - loss: 0.6728 - accuracy: 0.7445 - val_loss: 0.7642 - val_accuracy: 0.7057\n",
            "Epoch 2/2\n",
            "703/703 [==============================] - 3s 5ms/step - loss: 0.6638 - accuracy: 0.7516 - val_loss: 0.7486 - val_accuracy: 0.7089\n"
          ]
        },
        {
          "name": "stderr",
          "output_type": "stream",
          "text": [
            "100%|██████████| 500/500 [00:16<00:00, 29.74it/s]\n"
          ]
        },
        {
          "name": "stdout",
          "output_type": "stream",
          "text": [
            "Epoch 1/2\n",
            "703/703 [==============================] - 4s 5ms/step - loss: 0.6988 - accuracy: 0.7318 - val_loss: 0.7695 - val_accuracy: 0.7073\n",
            "Epoch 2/2\n",
            "703/703 [==============================] - 3s 5ms/step - loss: 0.6821 - accuracy: 0.7434 - val_loss: 0.7518 - val_accuracy: 0.7030\n"
          ]
        },
        {
          "name": "stderr",
          "output_type": "stream",
          "text": [
            "100%|██████████| 500/500 [00:08<00:00, 60.21it/s]\n"
          ]
        },
        {
          "name": "stdout",
          "output_type": "stream",
          "text": [
            "Epoch 1/2\n",
            "703/703 [==============================] - 4s 5ms/step - loss: 0.7427 - accuracy: 0.7139 - val_loss: 0.7905 - val_accuracy: 0.6994\n",
            "Epoch 2/2\n",
            "703/703 [==============================] - 4s 5ms/step - loss: 0.7185 - accuracy: 0.7287 - val_loss: 0.7698 - val_accuracy: 0.6974\n"
          ]
        },
        {
          "name": "stderr",
          "output_type": "stream",
          "text": [
            "100%|██████████| 500/500 [00:06<00:00, 71.69it/s]\n"
          ]
        },
        {
          "name": "stdout",
          "output_type": "stream",
          "text": [
            "Epoch 1/2\n",
            "703/703 [==============================] - 4s 5ms/step - loss: 0.7588 - accuracy: 0.7067 - val_loss: 0.7911 - val_accuracy: 0.6978\n",
            "Epoch 2/2\n",
            "703/703 [==============================] - 4s 5ms/step - loss: 0.7313 - accuracy: 0.7234 - val_loss: 0.7741 - val_accuracy: 0.6970\n",
            "Time: 116.22267603874207\n"
          ]
        },
        {
          "name": "stderr",
          "output_type": "stream",
          "text": [
            "100%|██████████| 500/500 [00:16<00:00, 29.81it/s]\n"
          ]
        },
        {
          "name": "stdout",
          "output_type": "stream",
          "text": [
            "Epoch 1/2\n",
            "703/703 [==============================] - 4s 5ms/step - loss: 0.6638 - accuracy: 0.7462 - val_loss: 0.7605 - val_accuracy: 0.7081\n",
            "Epoch 2/2\n",
            "703/703 [==============================] - 4s 5ms/step - loss: 0.6571 - accuracy: 0.7541 - val_loss: 0.7503 - val_accuracy: 0.7117\n"
          ]
        },
        {
          "name": "stderr",
          "output_type": "stream",
          "text": [
            "100%|██████████| 500/500 [00:16<00:00, 29.64it/s]\n"
          ]
        },
        {
          "name": "stdout",
          "output_type": "stream",
          "text": [
            "Epoch 1/2\n",
            "703/703 [==============================] - 4s 5ms/step - loss: 0.6804 - accuracy: 0.7394 - val_loss: 0.7650 - val_accuracy: 0.7065\n",
            "Epoch 2/2\n",
            "703/703 [==============================] - 4s 5ms/step - loss: 0.6692 - accuracy: 0.7505 - val_loss: 0.7530 - val_accuracy: 0.7057\n"
          ]
        },
        {
          "name": "stderr",
          "output_type": "stream",
          "text": [
            "100%|██████████| 500/500 [00:09<00:00, 53.55it/s]\n"
          ]
        },
        {
          "name": "stdout",
          "output_type": "stream",
          "text": [
            "Epoch 1/2\n",
            "703/703 [==============================] - 4s 5ms/step - loss: 0.7144 - accuracy: 0.7273 - val_loss: 0.7765 - val_accuracy: 0.6978\n",
            "Epoch 2/2\n",
            "703/703 [==============================] - 5s 6ms/step - loss: 0.6960 - accuracy: 0.7405 - val_loss: 0.7656 - val_accuracy: 0.7042\n"
          ]
        },
        {
          "name": "stderr",
          "output_type": "stream",
          "text": [
            "100%|██████████| 500/500 [00:06<00:00, 71.43it/s]\n"
          ]
        },
        {
          "name": "stdout",
          "output_type": "stream",
          "text": [
            "Epoch 1/2\n",
            "703/703 [==============================] - 4s 5ms/step - loss: 0.7242 - accuracy: 0.7240 - val_loss: 0.7788 - val_accuracy: 0.6986\n",
            "Epoch 2/2\n",
            "703/703 [==============================] - 4s 5ms/step - loss: 0.7051 - accuracy: 0.7345 - val_loss: 0.7692 - val_accuracy: 0.7053\n",
            "Time: 108.00671291351318\n"
          ]
        },
        {
          "name": "stderr",
          "output_type": "stream",
          "text": [
            "100%|██████████| 500/500 [00:16<00:00, 29.83it/s]\n"
          ]
        },
        {
          "name": "stdout",
          "output_type": "stream",
          "text": [
            "Epoch 1/2\n",
            "703/703 [==============================] - 4s 5ms/step - loss: 0.6560 - accuracy: 0.7511 - val_loss: 0.7582 - val_accuracy: 0.7073\n",
            "Epoch 2/2\n",
            "703/703 [==============================] - 4s 5ms/step - loss: 0.6508 - accuracy: 0.7560 - val_loss: 0.7462 - val_accuracy: 0.7125\n"
          ]
        },
        {
          "name": "stderr",
          "output_type": "stream",
          "text": [
            "100%|██████████| 500/500 [00:16<00:00, 29.43it/s]\n"
          ]
        },
        {
          "name": "stdout",
          "output_type": "stream",
          "text": [
            "Epoch 1/2\n",
            "703/703 [==============================] - 4s 5ms/step - loss: 0.6670 - accuracy: 0.7475 - val_loss: 0.7597 - val_accuracy: 0.7085\n",
            "Epoch 2/2\n",
            "703/703 [==============================] - 4s 5ms/step - loss: 0.6595 - accuracy: 0.7539 - val_loss: 0.7484 - val_accuracy: 0.7065\n"
          ]
        },
        {
          "name": "stderr",
          "output_type": "stream",
          "text": [
            "100%|██████████| 500/500 [00:09<00:00, 55.43it/s]\n"
          ]
        },
        {
          "name": "stdout",
          "output_type": "stream",
          "text": [
            "Epoch 1/2\n",
            "703/703 [==============================] - 4s 5ms/step - loss: 0.6917 - accuracy: 0.7385 - val_loss: 0.7674 - val_accuracy: 0.7069\n",
            "Epoch 2/2\n",
            "703/703 [==============================] - 4s 5ms/step - loss: 0.6787 - accuracy: 0.7448 - val_loss: 0.7519 - val_accuracy: 0.7081\n"
          ]
        },
        {
          "name": "stderr",
          "output_type": "stream",
          "text": [
            "100%|██████████| 500/500 [00:06<00:00, 71.63it/s]\n"
          ]
        },
        {
          "name": "stdout",
          "output_type": "stream",
          "text": [
            "Epoch 1/2\n",
            "703/703 [==============================] - 5s 6ms/step - loss: 0.6976 - accuracy: 0.7360 - val_loss: 0.7682 - val_accuracy: 0.7053\n",
            "Epoch 2/2\n",
            "703/703 [==============================] - 4s 5ms/step - loss: 0.6836 - accuracy: 0.7435 - val_loss: 0.7534 - val_accuracy: 0.7113\n",
            "Time: 100.40966033935547\n"
          ]
        },
        {
          "name": "stderr",
          "output_type": "stream",
          "text": [
            "100%|██████████| 500/500 [00:17<00:00, 29.40it/s]\n"
          ]
        },
        {
          "name": "stdout",
          "output_type": "stream",
          "text": [
            "Epoch 1/2\n",
            "703/703 [==============================] - 4s 5ms/step - loss: 0.6459 - accuracy: 0.7551 - val_loss: 0.7544 - val_accuracy: 0.7117\n",
            "Epoch 2/2\n",
            "703/703 [==============================] - 4s 5ms/step - loss: 0.6413 - accuracy: 0.7596 - val_loss: 0.7408 - val_accuracy: 0.7109\n"
          ]
        },
        {
          "name": "stderr",
          "output_type": "stream",
          "text": [
            "100%|██████████| 500/500 [00:16<00:00, 29.89it/s]\n"
          ]
        },
        {
          "name": "stdout",
          "output_type": "stream",
          "text": [
            "Epoch 1/2\n",
            "703/703 [==============================] - 4s 5ms/step - loss: 0.6523 - accuracy: 0.7539 - val_loss: 0.7546 - val_accuracy: 0.7105\n",
            "Epoch 2/2\n",
            "703/703 [==============================] - 4s 5ms/step - loss: 0.6457 - accuracy: 0.7556 - val_loss: 0.7436 - val_accuracy: 0.7101\n"
          ]
        },
        {
          "name": "stderr",
          "output_type": "stream",
          "text": [
            "100%|██████████| 500/500 [00:08<00:00, 59.15it/s]\n"
          ]
        },
        {
          "name": "stdout",
          "output_type": "stream",
          "text": [
            "Epoch 1/2\n",
            "703/703 [==============================] - 5s 6ms/step - loss: 0.6667 - accuracy: 0.7485 - val_loss: 0.7562 - val_accuracy: 0.7042\n",
            "Epoch 2/2\n",
            "703/703 [==============================] - 4s 5ms/step - loss: 0.6571 - accuracy: 0.7531 - val_loss: 0.7479 - val_accuracy: 0.7057\n"
          ]
        },
        {
          "name": "stderr",
          "output_type": "stream",
          "text": [
            "100%|██████████| 500/500 [00:07<00:00, 63.54it/s]\n"
          ]
        },
        {
          "name": "stdout",
          "output_type": "stream",
          "text": [
            "Epoch 1/2\n",
            "703/703 [==============================] - 4s 5ms/step - loss: 0.6688 - accuracy: 0.7455 - val_loss: 0.7569 - val_accuracy: 0.7077\n",
            "Epoch 2/2\n",
            "703/703 [==============================] - 4s 5ms/step - loss: 0.6585 - accuracy: 0.7516 - val_loss: 0.7460 - val_accuracy: 0.7077\n",
            "Time: 92.33249425888062\n"
          ]
        }
      ],
      "source": [
        "for compression_rate in np.arange(0., 1., 0.05):\n",
        "    model.load_weights(\"/content/drive/MyDrive/10605MP/pre_trained_weights.h5\")\n",
        "    compress_model(model, compression_rate)"
      ]
    },
    {
      "cell_type": "code",
      "execution_count": null,
      "metadata": {
        "colab": {
          "base_uri": "https://localhost:8080/"
        },
        "id": "8AGO6z-GCIGf",
        "outputId": "84d21725-7bc5-4972-da5a-30840dbf36fc"
      },
      "outputs": [
        {
          "name": "stdout",
          "output_type": "stream",
          "text": [
            "20/20 [==============================] - 0s 7ms/step - loss: 1.4194 - accuracy: 0.3830\n",
            "0.0,0.38297030329704285,0.514621382179774,0.44879584273840845\n",
            "20/20 [==============================] - 0s 7ms/step - loss: 1.3694 - accuracy: 0.4123\n",
            "0.05,0.4122772216796875,0.49942236306631604,0.45584979237300177\n",
            "20/20 [==============================] - 0s 9ms/step - loss: 1.2650 - accuracy: 0.4602\n",
            "0.1,0.4601980149745941,0.45720848729957686,0.4587032511370855\n",
            "20/20 [==============================] - 0s 6ms/step - loss: 1.2104 - accuracy: 0.4947\n",
            "0.15000000000000002,0.49465346336364746,0.41850934253954497,0.4565814029515962\n",
            "20/20 [==============================] - 0s 6ms/step - loss: 1.1331 - accuracy: 0.5319\n",
            "0.2,0.5318812131881714,0.39875331614195875,0.46531726466506507\n",
            "20/20 [==============================] - 0s 5ms/step - loss: 1.0818 - accuracy: 0.5640\n",
            "0.25,0.5639603734016418,0.353151199208005,0.4585557863048234\n",
            "20/20 [==============================] - 0s 5ms/step - loss: 1.0495 - accuracy: 0.5782\n",
            "0.30000000000000004,0.5782178044319153,0.326925639153159,0.45257172179253713\n",
            "20/20 [==============================] - 0s 5ms/step - loss: 1.0122 - accuracy: 0.6028\n",
            "0.35000000000000003,0.6027722954750061,0.28801399146277906,0.4453931434688926\n",
            "20/20 [==============================] - 0s 6ms/step - loss: 0.9761 - accuracy: 0.6063\n",
            "0.4,0.6063366532325745,0.25261707477910655,0.4294768640058405\n",
            "20/20 [==============================] - 0s 6ms/step - loss: 0.9266 - accuracy: 0.6356\n",
            "0.45,0.6356435418128967,0.2453767963665372,0.44051016908971696\n",
            "20/20 [==============================] - 0s 7ms/step - loss: 0.8750 - accuracy: 0.6570\n",
            "0.5,0.6570296883583069,0.23383923647359817,0.4454344624159525\n",
            "20/20 [==============================] - 0s 6ms/step - loss: 0.8679 - accuracy: 0.6634\n",
            "0.55,0.6633663177490234,0.20399775354045058,0.433682035644737\n",
            "20/20 [==============================] - 0s 6ms/step - loss: 0.8342 - accuracy: 0.6752\n",
            "0.6000000000000001,0.6752475500106812,0.18381166168858876,0.42952960584963495\n",
            "20/20 [==============================] - 0s 7ms/step - loss: 0.8268 - accuracy: 0.6832\n",
            "0.65,0.6831682920455933,0.14863230752884393,0.4159002997872186\n",
            "20/20 [==============================] - 0s 6ms/step - loss: 0.7956 - accuracy: 0.6970\n",
            "0.7000000000000001,0.697029709815979,0.1327873469683759,0.41490852839217746\n",
            "20/20 [==============================] - 0s 6ms/step - loss: 0.7833 - accuracy: 0.6998\n",
            "0.75,0.6998019814491272,0.10776765671669475,0.403784819082911\n",
            "20/20 [==============================] - 0s 6ms/step - loss: 0.7741 - accuracy: 0.6970\n",
            "0.8,0.697029709815979,0.08325729888537159,0.3901435043506753\n",
            "20/20 [==============================] - 0s 6ms/step - loss: 0.7692 - accuracy: 0.7053\n",
            "0.8500000000000001,0.7053465247154236,0.06996911961385177,0.3876578221646377\n",
            "20/20 [==============================] - 0s 6ms/step - loss: 0.7534 - accuracy: 0.7113\n",
            "0.9,0.7112871408462524,0.05068532195037212,0.3809862313983123\n",
            "20/20 [==============================] - 0s 7ms/step - loss: 0.7460 - accuracy: 0.7077\n",
            "0.9500000000000001,0.7077227830886841,0.031273347916206395,0.36949806550244524\n"
          ]
        }
      ],
      "source": [
        "for compression_rate in np.arange(0., 1., 0.05):\n",
        "    model.load_weights(f\"/content/drive/MyDrive/10605MP/my_model_weights_{compression_rate}.h5\")\n",
        "    print(','.join(map(lambda x: str(float(x)), [compression_rate, *evaluate_model(model)])))"
      ]
    },
    {
      "cell_type": "code",
      "execution_count": 3,
      "metadata": {
        "colab": {
          "base_uri": "https://localhost:8080/",
          "height": 17
        },
        "id": "wMSKQW4k4T-G",
        "outputId": "c723c999-818c-4cd1-e12e-17629d7d1997"
      },
      "outputs": [
        {
          "data": {
            "application/javascript": "\n    async function download(id, filename, size) {\n      if (!google.colab.kernel.accessAllowed) {\n        return;\n      }\n      const div = document.createElement('div');\n      const label = document.createElement('label');\n      label.textContent = `Downloading \"${filename}\": `;\n      div.appendChild(label);\n      const progress = document.createElement('progress');\n      progress.max = size;\n      div.appendChild(progress);\n      document.body.appendChild(div);\n\n      const buffers = [];\n      let downloaded = 0;\n\n      const channel = await google.colab.kernel.comms.open(id);\n      // Send a message to notify the kernel that we're ready.\n      channel.send({})\n\n      for await (const message of channel.messages) {\n        // Send a message to notify the kernel that we're ready.\n        channel.send({})\n        if (message.buffers) {\n          for (const buffer of message.buffers) {\n            buffers.push(buffer);\n            downloaded += buffer.byteLength;\n            progress.value = downloaded;\n          }\n        }\n      }\n      const blob = new Blob(buffers, {type: 'application/binary'});\n      const a = document.createElement('a');\n      a.href = window.URL.createObjectURL(blob);\n      a.download = filename;\n      div.appendChild(a);\n      a.click();\n      div.remove();\n    }\n  ",
            "text/plain": [
              "<IPython.core.display.Javascript object>"
            ]
          },
          "metadata": {},
          "output_type": "display_data"
        },
        {
          "data": {
            "application/javascript": "download(\"download_438b4479-d882-4b65-852f-7727a48c5655\", \"my_model_weights_0.5.h5\", 2407560)",
            "text/plain": [
              "<IPython.core.display.Javascript object>"
            ]
          },
          "metadata": {},
          "output_type": "display_data"
        }
      ],
      "source": [
        "# running this cell will immediately download a file called 'my_model_weights.h5'\n",
        "from google.colab import files\n",
        "files.download(\"/content/drive/MyDrive/10605MP/my_model_weights_0.5.h5\")"
      ]
    },
    {
      "cell_type": "code",
      "execution_count": null,
      "metadata": {
        "id": "MPiJ_b1S4T-I"
      },
      "outputs": [],
      "source": []
    }
  ],
  "metadata": {
    "colab": {
      "collapsed_sections": [
        "IfLOZzJCk69Q"
      ],
      "provenance": []
    },
    "gpuClass": "standard",
    "kernelspec": {
      "display_name": "Python 3.8.13 ('10605')",
      "language": "python",
      "name": "python3"
    },
    "language_info": {
      "codemirror_mode": {
        "name": "ipython",
        "version": 3
      },
      "file_extension": ".py",
      "mimetype": "text/x-python",
      "name": "python",
      "nbconvert_exporter": "python",
      "pygments_lexer": "ipython3",
      "version": "3.8.13"
    },
    "vscode": {
      "interpreter": {
        "hash": "c69d7ab18cb72e25c38db13a3f3587e677c3447e248d5f3b6b7ac4da7927501b"
      }
    }
  },
  "nbformat": 4,
  "nbformat_minor": 0
}
