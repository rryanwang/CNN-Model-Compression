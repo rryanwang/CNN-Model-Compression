{
  "nbformat": 4,
  "nbformat_minor": 0,
  "metadata": {
    "kernelspec": {
      "display_name": "Python 3",
      "language": "python",
      "name": "python3"
    },
    "language_info": {
      "codemirror_mode": {
        "name": "ipython",
        "version": 3
      },
      "file_extension": ".py",
      "mimetype": "text/x-python",
      "name": "python",
      "nbconvert_exporter": "python",
      "pygments_lexer": "ipython3",
      "version": "3.7.6"
    },
    "colab": {
      "provenance": []
    },
    "accelerator": "GPU"
  },
  "cells": [
    {
      "cell_type": "markdown",
      "metadata": {
        "id": "y-eC-sb34T9w"
      },
      "source": [
        "## Accelerate Inference: Neural Network Pruning"
      ]
    },
    {
      "cell_type": "code",
      "metadata": {
        "id": "L47XBZWm4T9x",
        "outputId": "60acf2cb-8f63-4a56-e248-846a6cf9b167",
        "colab": {
          "base_uri": "https://localhost:8080/"
        }
      },
      "source": [
        "import os\n",
        "import numpy as np\n",
        "import cv2\n",
        "import matplotlib.pyplot as plt\n",
        "import pickle\n",
        "\n",
        "import tensorflow as tf\n",
        "from tensorflow import keras\n",
        "from tensorflow.keras import datasets, layers, models, regularizers\n",
        "from tensorflow.keras.layers import *\n",
        "\n",
        "print(tf.version.VERSION)"
      ],
      "execution_count": null,
      "outputs": [
        {
          "output_type": "stream",
          "name": "stdout",
          "text": [
            "2.9.2\n"
          ]
        }
      ]
    },
    {
      "cell_type": "code",
      "metadata": {
        "id": "V1FQTVeAuNiU",
        "outputId": "aa1c63b7-d9c8-4775-d103-b02a7d6ff7e4",
        "colab": {
          "base_uri": "https://localhost:8080/"
        }
      },
      "source": [
        "# untar\n",
        "!tar -xvzf dataset.tar.gz\n",
        "# load train\n",
        "train_images = pickle.load(open('train_images.pkl', 'rb'))\n",
        "train_labels = pickle.load(open('train_labels.pkl', 'rb'))\n",
        "# load val\n",
        "val_images = pickle.load(open('val_images.pkl', 'rb'))\n",
        "val_labels = pickle.load(open('val_labels.pkl', 'rb'))"
      ],
      "execution_count": null,
      "outputs": [
        {
          "output_type": "stream",
          "name": "stdout",
          "text": [
            "train_images.pkl\n",
            "train_labels.pkl\n",
            "val_images.pkl\n",
            "val_labels.pkl\n"
          ]
        }
      ]
    },
    {
      "cell_type": "code",
      "metadata": {
        "id": "KE9JuZDG4T94"
      },
      "source": [
        "# Define the neural network architecture (don't change this)\n",
        "\n",
        "model = models.Sequential()\n",
        "model.add(Conv2D(32, (3, 3), padding='same', kernel_regularizer=regularizers.l2(1e-5), input_shape=(25,25,3)))\n",
        "model.add(Activation('relu'))\n",
        "model.add(Conv2D(32, (3, 3), kernel_regularizer=regularizers.l2(1e-5)))\n",
        "model.add(Activation('relu'))\n",
        "model.add(MaxPooling2D(pool_size=(2, 2)))\n",
        "model.add(Dropout(0.25))\n",
        "model.add(Conv2D(64, (3, 3), padding='same', kernel_regularizer=regularizers.l2(1e-5)))\n",
        "model.add(Activation('relu'))\n",
        "model.add(Conv2D(64, (3, 3), kernel_regularizer=regularizers.l2(1e-5)))\n",
        "model.add(Activation('relu'))\n",
        "model.add(MaxPooling2D(pool_size=(2, 2)))\n",
        "model.add(Dropout(0.25))\n",
        "model.add(Flatten())\n",
        "model.add(Dense(512))\n",
        "model.add(Activation('relu'))\n",
        "model.add(Dropout(0.5))\n",
        "model.add(Dense(5))\n",
        "model.add(Activation('softmax'))"
      ],
      "execution_count": null,
      "outputs": []
    },
    {
      "cell_type": "code",
      "metadata": {
        "id": "JTzcSoYl4T97",
        "outputId": "7dfbadb5-0b63-4aff-a389-d6343356fa22",
        "colab": {
          "base_uri": "https://localhost:8080/"
        }
      },
      "source": [
        "print(model.summary())"
      ],
      "execution_count": null,
      "outputs": [
        {
          "output_type": "stream",
          "name": "stdout",
          "text": [
            "Model: \"sequential\"\n",
            "_________________________________________________________________\n",
            " Layer (type)                Output Shape              Param #   \n",
            "=================================================================\n",
            " conv2d (Conv2D)             (None, 25, 25, 32)        896       \n",
            "                                                                 \n",
            " activation (Activation)     (None, 25, 25, 32)        0         \n",
            "                                                                 \n",
            " conv2d_1 (Conv2D)           (None, 23, 23, 32)        9248      \n",
            "                                                                 \n",
            " activation_1 (Activation)   (None, 23, 23, 32)        0         \n",
            "                                                                 \n",
            " max_pooling2d (MaxPooling2D  (None, 11, 11, 32)       0         \n",
            " )                                                               \n",
            "                                                                 \n",
            " dropout (Dropout)           (None, 11, 11, 32)        0         \n",
            "                                                                 \n",
            " conv2d_2 (Conv2D)           (None, 11, 11, 64)        18496     \n",
            "                                                                 \n",
            " activation_2 (Activation)   (None, 11, 11, 64)        0         \n",
            "                                                                 \n",
            " conv2d_3 (Conv2D)           (None, 9, 9, 64)          36928     \n",
            "                                                                 \n",
            " activation_3 (Activation)   (None, 9, 9, 64)          0         \n",
            "                                                                 \n",
            " max_pooling2d_1 (MaxPooling  (None, 4, 4, 64)         0         \n",
            " 2D)                                                             \n",
            "                                                                 \n",
            " dropout_1 (Dropout)         (None, 4, 4, 64)          0         \n",
            "                                                                 \n",
            " flatten (Flatten)           (None, 1024)              0         \n",
            "                                                                 \n",
            " dense (Dense)               (None, 512)               524800    \n",
            "                                                                 \n",
            " activation_4 (Activation)   (None, 512)               0         \n",
            "                                                                 \n",
            " dropout_2 (Dropout)         (None, 512)               0         \n",
            "                                                                 \n",
            " dense_1 (Dense)             (None, 5)                 2565      \n",
            "                                                                 \n",
            " activation_5 (Activation)   (None, 5)                 0         \n",
            "                                                                 \n",
            "=================================================================\n",
            "Total params: 592,933\n",
            "Trainable params: 592,933\n",
            "Non-trainable params: 0\n",
            "_________________________________________________________________\n",
            "None\n"
          ]
        }
      ]
    },
    {
      "cell_type": "code",
      "source": [
        "model.load_weights(\"model_orig_weights.h5\")"
      ],
      "metadata": {
        "id": "07JyY_aN1pQt"
      },
      "execution_count": null,
      "outputs": []
    },
    {
      "cell_type": "code",
      "source": [
        "orig_weights = model.get_weights()\n",
        "model.set_weights(orig_weights)"
      ],
      "metadata": {
        "id": "bGzyCGZxXjGz"
      },
      "execution_count": null,
      "outputs": []
    },
    {
      "cell_type": "markdown",
      "source": [
        "Each filter for the convolution layers is (3x3), the input has three channels, and the first layer has 32 filters."
      ],
      "metadata": {
        "id": "WsDQI0bW8z8j"
      }
    },
    {
      "cell_type": "markdown",
      "source": [
        "Weights at [0,2,4,6] layers are to be pruned."
      ],
      "metadata": {
        "id": "io4dH24fS71c"
      }
    },
    {
      "cell_type": "code",
      "source": [
        "model.compile(optimizer=keras.optimizers.Adam(learning_rate=0.0001, decay=1e-6),\n",
        "              loss=tf.keras.losses.SparseCategoricalCrossentropy(from_logits=True),\n",
        "              metrics=['accuracy'])"
      ],
      "metadata": {
        "id": "x-KMXbnFbcCp"
      },
      "execution_count": null,
      "outputs": []
    },
    {
      "cell_type": "code",
      "metadata": {
        "id": "vOhpP7M24T9_",
        "outputId": "87d96d0c-aa26-4cf5-f686-a97a6723b3ec",
        "colab": {
          "base_uri": "https://localhost:8080/"
        }
      },
      "source": [
        "results = model.evaluate(val_images, val_labels, batch_size=128)"
      ],
      "execution_count": null,
      "outputs": [
        {
          "output_type": "stream",
          "name": "stderr",
          "text": [
            "/usr/local/lib/python3.7/dist-packages/tensorflow/python/util/dispatch.py:1082: UserWarning: \"`sparse_categorical_crossentropy` received `from_logits=True`, but the `output` argument was produced by a sigmoid or softmax activation and thus does not represent logits. Was this intended?\"\n",
            "  return dispatch_target(*args, **kwargs)\n"
          ]
        },
        {
          "output_type": "stream",
          "name": "stdout",
          "text": [
            "20/20 [==============================] - 7s 12ms/step - loss: 0.7430 - accuracy: 0.7354\n"
          ]
        }
      ]
    },
    {
      "cell_type": "code",
      "source": [
        "# model original weights\n",
        "model.set_weights(orig_weights)"
      ],
      "metadata": {
        "id": "yKcBNXaC8F1u"
      },
      "execution_count": null,
      "outputs": []
    },
    {
      "cell_type": "code",
      "source": [
        "# prune each layer independently\n",
        "# prune [60%,30%,5%,5%] subsequently\n",
        "l = [0,2,4,6] # convolutional layers\n",
        "p = [0,0,0,0.6]\n",
        "weights = model.get_weights()\n",
        "for i in range(len(l)):\n",
        "  w = weights[l[i]]\n",
        "  print(w.shape)\n",
        "  s = np.sum(np.absolute(w),axis=(0,1,2))\n",
        "  indices = s.argsort()\n",
        "  #s_sorted = s[indices]\n",
        "  p_ = p[i]\n",
        "  prune = indices[:int(len(s)*p_)]\n",
        "  #print(prune)\n",
        "  weights[l[i]][:,:,:,prune] = 0\n",
        "model.set_weights(weights)"
      ],
      "metadata": {
        "colab": {
          "base_uri": "https://localhost:8080/"
        },
        "id": "5U52Gg6p5PL4",
        "outputId": "f3be166b-fe45-4b3f-f70d-7c0494e2a29b"
      },
      "execution_count": null,
      "outputs": [
        {
          "output_type": "stream",
          "name": "stdout",
          "text": [
            "(3, 3, 3, 32)\n",
            "(3, 3, 32, 32)\n",
            "(3, 3, 32, 64)\n",
            "(3, 3, 64, 64)\n"
          ]
        }
      ]
    },
    {
      "cell_type": "code",
      "source": [
        "# evaluate again to see how the accuracy changes\n",
        "results = model.evaluate(val_images, val_labels, batch_size=128)"
      ],
      "metadata": {
        "colab": {
          "base_uri": "https://localhost:8080/"
        },
        "id": "vNd0Hsn3E4nY",
        "outputId": "d0dea920-8e29-472e-e879-a880d05a31e2"
      },
      "execution_count": null,
      "outputs": [
        {
          "output_type": "stream",
          "name": "stderr",
          "text": [
            "/usr/local/lib/python3.7/dist-packages/tensorflow/python/util/dispatch.py:1082: UserWarning: \"`sparse_categorical_crossentropy` received `from_logits=True`, but the `output` argument was produced by a sigmoid or softmax activation and thus does not represent logits. Was this intended?\"\n",
            "  return dispatch_target(*args, **kwargs)\n"
          ]
        },
        {
          "output_type": "stream",
          "name": "stdout",
          "text": [
            "20/20 [==============================] - 2s 75ms/step - loss: 0.7430 - accuracy: 0.7354\n"
          ]
        }
      ]
    },
    {
      "cell_type": "code",
      "source": [
        "# train model again after pruning\n",
        "\n",
        "model.compile(optimizer=keras.optimizers.Adam(learning_rate=0.0001, decay=1e-6),\n",
        "              loss=tf.keras.losses.SparseCategoricalCrossentropy(from_logits=True),\n",
        "              metrics=['accuracy'])\n",
        "\n",
        "history = model.fit(train_images, train_labels, batch_size=32, epochs=25, \n",
        "                    validation_data=(val_images, val_labels))"
      ],
      "metadata": {
        "colab": {
          "base_uri": "https://localhost:8080/"
        },
        "id": "ZSCyj4P4FEUg",
        "outputId": "aa5d4d65-e606-4156-9231-89dfe22b5de1"
      },
      "execution_count": null,
      "outputs": [
        {
          "output_type": "stream",
          "name": "stdout",
          "text": [
            "Epoch 1/25\n"
          ]
        },
        {
          "output_type": "stream",
          "name": "stderr",
          "text": [
            "/usr/local/lib/python3.7/dist-packages/tensorflow/python/util/dispatch.py:1082: UserWarning: \"`sparse_categorical_crossentropy` received `from_logits=True`, but the `output` argument was produced by a sigmoid or softmax activation and thus does not represent logits. Was this intended?\"\n",
            "  return dispatch_target(*args, **kwargs)\n"
          ]
        },
        {
          "output_type": "stream",
          "name": "stdout",
          "text": [
            "703/703 [==============================] - 4s 5ms/step - loss: 0.6583 - accuracy: 0.7548 - val_loss: 0.7654 - val_accuracy: 0.7133\n",
            "Epoch 2/25\n",
            "703/703 [==============================] - 4s 5ms/step - loss: 0.5477 - accuracy: 0.7993 - val_loss: 0.7350 - val_accuracy: 0.7188\n",
            "Epoch 3/25\n",
            "703/703 [==============================] - 4s 5ms/step - loss: 0.5221 - accuracy: 0.8038 - val_loss: 0.7225 - val_accuracy: 0.7299\n",
            "Epoch 4/25\n",
            "703/703 [==============================] - 4s 5ms/step - loss: 0.4994 - accuracy: 0.8125 - val_loss: 0.7192 - val_accuracy: 0.7390\n",
            "Epoch 5/25\n",
            "703/703 [==============================] - 4s 5ms/step - loss: 0.4834 - accuracy: 0.8210 - val_loss: 0.7517 - val_accuracy: 0.7188\n",
            "Epoch 6/25\n",
            "703/703 [==============================] - 4s 5ms/step - loss: 0.4775 - accuracy: 0.8190 - val_loss: 0.7365 - val_accuracy: 0.7311\n",
            "Epoch 7/25\n",
            "703/703 [==============================] - 4s 5ms/step - loss: 0.4624 - accuracy: 0.8292 - val_loss: 0.7220 - val_accuracy: 0.7335\n",
            "Epoch 8/25\n",
            "703/703 [==============================] - 4s 5ms/step - loss: 0.4574 - accuracy: 0.8311 - val_loss: 0.7458 - val_accuracy: 0.7279\n",
            "Epoch 9/25\n",
            "703/703 [==============================] - 4s 5ms/step - loss: 0.4507 - accuracy: 0.8325 - val_loss: 0.7245 - val_accuracy: 0.7398\n",
            "Epoch 10/25\n",
            "703/703 [==============================] - 4s 5ms/step - loss: 0.4366 - accuracy: 0.8411 - val_loss: 0.7318 - val_accuracy: 0.7335\n",
            "Epoch 11/25\n",
            "703/703 [==============================] - 4s 5ms/step - loss: 0.4372 - accuracy: 0.8378 - val_loss: 0.7517 - val_accuracy: 0.7303\n",
            "Epoch 12/25\n",
            "703/703 [==============================] - 4s 5ms/step - loss: 0.4264 - accuracy: 0.8408 - val_loss: 0.7420 - val_accuracy: 0.7354\n",
            "Epoch 13/25\n",
            "703/703 [==============================] - 4s 5ms/step - loss: 0.4154 - accuracy: 0.8462 - val_loss: 0.7273 - val_accuracy: 0.7434\n",
            "Epoch 14/25\n",
            "703/703 [==============================] - 4s 5ms/step - loss: 0.4150 - accuracy: 0.8485 - val_loss: 0.7439 - val_accuracy: 0.7335\n",
            "Epoch 15/25\n",
            "703/703 [==============================] - 4s 5ms/step - loss: 0.4082 - accuracy: 0.8511 - val_loss: 0.7332 - val_accuracy: 0.7414\n",
            "Epoch 16/25\n",
            "703/703 [==============================] - 4s 5ms/step - loss: 0.4058 - accuracy: 0.8509 - val_loss: 0.7342 - val_accuracy: 0.7378\n",
            "Epoch 17/25\n",
            "703/703 [==============================] - 4s 5ms/step - loss: 0.3980 - accuracy: 0.8523 - val_loss: 0.7377 - val_accuracy: 0.7418\n",
            "Epoch 18/25\n",
            "703/703 [==============================] - 4s 5ms/step - loss: 0.3937 - accuracy: 0.8561 - val_loss: 0.7446 - val_accuracy: 0.7398\n",
            "Epoch 19/25\n",
            "703/703 [==============================] - 4s 5ms/step - loss: 0.3883 - accuracy: 0.8529 - val_loss: 0.7279 - val_accuracy: 0.7426\n",
            "Epoch 20/25\n",
            "703/703 [==============================] - 4s 5ms/step - loss: 0.3808 - accuracy: 0.8604 - val_loss: 0.7591 - val_accuracy: 0.7358\n",
            "Epoch 21/25\n",
            "703/703 [==============================] - 4s 5ms/step - loss: 0.3755 - accuracy: 0.8614 - val_loss: 0.7467 - val_accuracy: 0.7418\n",
            "Epoch 22/25\n",
            "703/703 [==============================] - 4s 5ms/step - loss: 0.3761 - accuracy: 0.8608 - val_loss: 0.7279 - val_accuracy: 0.7315\n",
            "Epoch 23/25\n",
            "703/703 [==============================] - 4s 5ms/step - loss: 0.3684 - accuracy: 0.8669 - val_loss: 0.7510 - val_accuracy: 0.7382\n",
            "Epoch 24/25\n",
            "703/703 [==============================] - 4s 5ms/step - loss: 0.3645 - accuracy: 0.8691 - val_loss: 0.7626 - val_accuracy: 0.7430\n",
            "Epoch 25/25\n",
            "703/703 [==============================] - 4s 5ms/step - loss: 0.3557 - accuracy: 0.8698 - val_loss: 0.7776 - val_accuracy: 0.7347\n"
          ]
        }
      ]
    },
    {
      "cell_type": "code",
      "source": [
        "model.compile(optimizer=keras.optimizers.Adam(learning_rate=0.0001, decay=1e-6),\n",
        "              loss=tf.keras.losses.SparseCategoricalCrossentropy(from_logits=True),\n",
        "              metrics=['accuracy'])"
      ],
      "metadata": {
        "id": "oXFg9g_PCJlu"
      },
      "execution_count": null,
      "outputs": []
    },
    {
      "cell_type": "code",
      "source": [
        "model.set_weights(orig_weights)"
      ],
      "metadata": {
        "id": "8NI9xCPqBjQ1"
      },
      "execution_count": null,
      "outputs": []
    },
    {
      "cell_type": "code",
      "source": [
        "# Soft pruning\n",
        "# Prune at each training epoch\n",
        "epochs=25\n",
        "l = [0,2,4,6]\n",
        "p = [0.6,0.3,0.1,0.1]\n",
        "\n",
        "for epoch in range(epochs):\n",
        "  model.fit(train_images, train_labels, batch_size=32, epochs=1, \n",
        "                    validation_data=(val_images, val_labels))\n",
        "  weights = model.get_weights()\n",
        "  for i in range(len(l)):\n",
        "    w = weights[l[i]]\n",
        "    #print(w.shape)\n",
        "    s = np.sum(np.absolute(w),axis=(0,1,2))\n",
        "    indices = s.argsort()\n",
        "    p_ = p[i]\n",
        "    prune = indices[:int(len(s)*p_)]\n",
        "    weights[l[i]][:,:,:,prune] = 0\n",
        "    model.set_weights(weights)"
      ],
      "metadata": {
        "colab": {
          "base_uri": "https://localhost:8080/"
        },
        "id": "JASKYi_wBFGu",
        "outputId": "efc799c1-0ae7-44a1-f6c0-effaf9339284"
      },
      "execution_count": null,
      "outputs": [
        {
          "output_type": "stream",
          "name": "stderr",
          "text": [
            "/usr/local/lib/python3.7/dist-packages/tensorflow/python/util/dispatch.py:1082: UserWarning: \"`sparse_categorical_crossentropy` received `from_logits=True`, but the `output` argument was produced by a sigmoid or softmax activation and thus does not represent logits. Was this intended?\"\n",
            "  return dispatch_target(*args, **kwargs)\n"
          ]
        },
        {
          "output_type": "stream",
          "name": "stdout",
          "text": [
            "703/703 [==============================] - 64s 90ms/step - loss: 0.3955 - accuracy: 0.8547 - val_loss: 0.7395 - val_accuracy: 0.7350\n",
            "703/703 [==============================] - 63s 89ms/step - loss: 0.6478 - accuracy: 0.7574 - val_loss: 0.7351 - val_accuracy: 0.7176\n",
            "703/703 [==============================] - 64s 91ms/step - loss: 0.5798 - accuracy: 0.7833 - val_loss: 0.7660 - val_accuracy: 0.7065\n",
            "703/703 [==============================] - 64s 91ms/step - loss: 0.5500 - accuracy: 0.7920 - val_loss: 0.7534 - val_accuracy: 0.7232\n",
            "703/703 [==============================] - 63s 89ms/step - loss: 0.5364 - accuracy: 0.8008 - val_loss: 0.7418 - val_accuracy: 0.7236\n",
            "703/703 [==============================] - 62s 89ms/step - loss: 0.5223 - accuracy: 0.8055 - val_loss: 0.7587 - val_accuracy: 0.7156\n",
            "703/703 [==============================] - 64s 91ms/step - loss: 0.5104 - accuracy: 0.8110 - val_loss: 0.7545 - val_accuracy: 0.7168\n",
            "703/703 [==============================] - 63s 90ms/step - loss: 0.5038 - accuracy: 0.8133 - val_loss: 0.7212 - val_accuracy: 0.7362\n",
            "703/703 [==============================] - 63s 89ms/step - loss: 0.4914 - accuracy: 0.8175 - val_loss: 0.7371 - val_accuracy: 0.7331\n",
            "703/703 [==============================] - 64s 91ms/step - loss: 0.4831 - accuracy: 0.8215 - val_loss: 0.7405 - val_accuracy: 0.7315\n",
            "703/703 [==============================] - 63s 89ms/step - loss: 0.4769 - accuracy: 0.8224 - val_loss: 0.7218 - val_accuracy: 0.7323\n",
            "703/703 [==============================] - 64s 91ms/step - loss: 0.4718 - accuracy: 0.8259 - val_loss: 0.7198 - val_accuracy: 0.7299\n",
            "703/703 [==============================] - 64s 91ms/step - loss: 0.4647 - accuracy: 0.8288 - val_loss: 0.7454 - val_accuracy: 0.7283\n",
            "703/703 [==============================] - 63s 89ms/step - loss: 0.4621 - accuracy: 0.8262 - val_loss: 0.7269 - val_accuracy: 0.7366\n",
            "703/703 [==============================] - 63s 89ms/step - loss: 0.4510 - accuracy: 0.8336 - val_loss: 0.7434 - val_accuracy: 0.7311\n",
            "703/703 [==============================] - 62s 89ms/step - loss: 0.4514 - accuracy: 0.8348 - val_loss: 0.7345 - val_accuracy: 0.7323\n",
            "703/703 [==============================] - 61s 87ms/step - loss: 0.4462 - accuracy: 0.8328 - val_loss: 0.7437 - val_accuracy: 0.7327\n",
            "703/703 [==============================] - 63s 89ms/step - loss: 0.4348 - accuracy: 0.8403 - val_loss: 0.7349 - val_accuracy: 0.7347\n",
            "703/703 [==============================] - 63s 90ms/step - loss: 0.4398 - accuracy: 0.8391 - val_loss: 0.7199 - val_accuracy: 0.7414\n",
            "703/703 [==============================] - 65s 92ms/step - loss: 0.4292 - accuracy: 0.8411 - val_loss: 0.7593 - val_accuracy: 0.7299\n",
            "703/703 [==============================] - 62s 89ms/step - loss: 0.4249 - accuracy: 0.8440 - val_loss: 0.7258 - val_accuracy: 0.7366\n",
            "703/703 [==============================] - 62s 89ms/step - loss: 0.4208 - accuracy: 0.8450 - val_loss: 0.7604 - val_accuracy: 0.7263\n",
            "703/703 [==============================] - 61s 87ms/step - loss: 0.4172 - accuracy: 0.8466 - val_loss: 0.7329 - val_accuracy: 0.7378\n",
            "703/703 [==============================] - 63s 90ms/step - loss: 0.4133 - accuracy: 0.8498 - val_loss: 0.7464 - val_accuracy: 0.7366\n",
            "703/703 [==============================] - 64s 91ms/step - loss: 0.4098 - accuracy: 0.8485 - val_loss: 0.7465 - val_accuracy: 0.7370\n"
          ]
        }
      ]
    },
    {
      "cell_type": "code",
      "source": [
        "# evaluate again to see how the accuracy changes\n",
        "results = model.evaluate(val_images, val_labels, batch_size=128)"
      ],
      "metadata": {
        "colab": {
          "base_uri": "https://localhost:8080/"
        },
        "id": "mkUiysAmQH1B",
        "outputId": "81a75b74-7d16-483a-b323-18b34a1c6797"
      },
      "execution_count": null,
      "outputs": [
        {
          "output_type": "stream",
          "name": "stdout",
          "text": [
            "20/20 [==============================] - 2s 112ms/step - loss: 0.7449 - accuracy: 0.7343\n"
          ]
        }
      ]
    },
    {
      "cell_type": "code",
      "source": [
        "def spar(model):\n",
        "  weights = model.get_weights()\n",
        "  t = 0\n",
        "  nonz = 0\n",
        "  for w in weights:\n",
        "    t += w.size\n",
        "    nonz += np.count_nonzero(w)\n",
        "  s = (t-nonz)/t\n",
        "  return s"
      ],
      "metadata": {
        "id": "xNQPU2dILYql"
      },
      "execution_count": null,
      "outputs": []
    },
    {
      "cell_type": "code",
      "source": [
        "sparse = spar(model)\n",
        "print(sparse)"
      ],
      "metadata": {
        "colab": {
          "base_uri": "https://localhost:8080/"
        },
        "id": "5Iwb1BntL3kc",
        "outputId": "f3178c38-c9b3-474b-84ec-c0e26af4be16"
      },
      "execution_count": null,
      "outputs": [
        {
          "output_type": "stream",
          "name": "stdout",
          "text": [
            "0.013979657060747167\n"
          ]
        }
      ]
    },
    {
      "cell_type": "code",
      "metadata": {
        "id": "wMSKQW4k4T-G",
        "outputId": "a9b526bd-8f0c-4f43-fd06-2c2540c08393",
        "colab": {
          "base_uri": "https://localhost:8080/",
          "height": 17
        }
      },
      "source": [
        "# you need to save the model's weights, naming it 'my_model_weights.h5'\n",
        "model.save_weights(\"model_weights.h5\")\n",
        "\n",
        "# running this cell will immediately download a file called 'my_model_weights.h5'\n",
        "from google.colab import files\n",
        "files.download(\"model_weights.h5\")"
      ],
      "execution_count": null,
      "outputs": [
        {
          "output_type": "display_data",
          "data": {
            "text/plain": [
              "<IPython.core.display.Javascript object>"
            ],
            "application/javascript": [
              "\n",
              "    async function download(id, filename, size) {\n",
              "      if (!google.colab.kernel.accessAllowed) {\n",
              "        return;\n",
              "      }\n",
              "      const div = document.createElement('div');\n",
              "      const label = document.createElement('label');\n",
              "      label.textContent = `Downloading \"${filename}\": `;\n",
              "      div.appendChild(label);\n",
              "      const progress = document.createElement('progress');\n",
              "      progress.max = size;\n",
              "      div.appendChild(progress);\n",
              "      document.body.appendChild(div);\n",
              "\n",
              "      const buffers = [];\n",
              "      let downloaded = 0;\n",
              "\n",
              "      const channel = await google.colab.kernel.comms.open(id);\n",
              "      // Send a message to notify the kernel that we're ready.\n",
              "      channel.send({})\n",
              "\n",
              "      for await (const message of channel.messages) {\n",
              "        // Send a message to notify the kernel that we're ready.\n",
              "        channel.send({})\n",
              "        if (message.buffers) {\n",
              "          for (const buffer of message.buffers) {\n",
              "            buffers.push(buffer);\n",
              "            downloaded += buffer.byteLength;\n",
              "            progress.value = downloaded;\n",
              "          }\n",
              "        }\n",
              "      }\n",
              "      const blob = new Blob(buffers, {type: 'application/binary'});\n",
              "      const a = document.createElement('a');\n",
              "      a.href = window.URL.createObjectURL(blob);\n",
              "      a.download = filename;\n",
              "      div.appendChild(a);\n",
              "      a.click();\n",
              "      div.remove();\n",
              "    }\n",
              "  "
            ]
          },
          "metadata": {}
        },
        {
          "output_type": "display_data",
          "data": {
            "text/plain": [
              "<IPython.core.display.Javascript object>"
            ],
            "application/javascript": [
              "download(\"download_1070020b-99e6-4f85-9365-d04b7f5f31fc\", \"model9_weights.h5\", 2407560)"
            ]
          },
          "metadata": {}
        }
      ]
    },
    {
      "cell_type": "code",
      "metadata": {
        "id": "MPiJ_b1S4T-I"
      },
      "source": [
        "import numpy as np\n",
        "import matplotlib.pyplot as plt"
      ],
      "execution_count": null,
      "outputs": []
    },
    {
      "cell_type": "code",
      "source": [
        "import glob\n",
        "files = sorted(glob.glob(\"layer*.txt\"))"
      ],
      "metadata": {
        "id": "zsuO6ekojaHk"
      },
      "execution_count": null,
      "outputs": []
    },
    {
      "cell_type": "code",
      "source": [
        "print(files)"
      ],
      "metadata": {
        "colab": {
          "base_uri": "https://localhost:8080/"
        },
        "id": "gOiFK4W5jr2K",
        "outputId": "510f5100-b36e-4afa-abe1-17683137e0af"
      },
      "execution_count": null,
      "outputs": [
        {
          "output_type": "stream",
          "name": "stdout",
          "text": [
            "['layer1.txt', 'layer2.txt', 'layer3.txt', 'layer4.txt']\n"
          ]
        }
      ]
    },
    {
      "cell_type": "code",
      "source": [
        "for i in range(len(files)):\n",
        "  data = np.loadtxt(files[i])\n",
        "  sparse = data[:,1]\n",
        "  acc = data[:,2]\n",
        "  plt.plot(sparse,acc,label=\"layer\"+f\"{i+1}\",marker='o')\n",
        "plt.xlabel(\"sparsity\",size=14)\n",
        "plt.ylabel(\"accuracy\",size=14)\n",
        "plt.legend()\n",
        "plt.show()\n",
        "plt.savefig(\"L1norm.png\")"
      ],
      "metadata": {
        "colab": {
          "base_uri": "https://localhost:8080/",
          "height": 302
        },
        "id": "5OpJhQvgkSpm",
        "outputId": "76039c27-3a04-4413-c0bf-09559810b564"
      },
      "execution_count": null,
      "outputs": [
        {
          "output_type": "display_data",
          "data": {
            "text/plain": [
              "<Figure size 432x288 with 1 Axes>"
            ],
            "image/png": "[encoded data removed]"
          },
          "metadata": {
            "needs_background": "light"
          }
        },
        {
          "output_type": "display_data",
          "data": {
            "text/plain": [
              "<Figure size 432x288 with 0 Axes>"
            ]
          },
          "metadata": {}
        }
      ]
    }
  ]
}